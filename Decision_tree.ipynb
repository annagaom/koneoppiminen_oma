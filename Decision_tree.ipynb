{
 "cells": [
  {
   "cell_type": "markdown",
   "id": "7fd2a98b",
   "metadata": {},
   "source": [
    "# 5. Decision trees \n",
    "\n",
    "## Creating a simple tree classifier\n",
    "\n",
    "In previous modules, we have learned to solve classification problems with the kNN algorithm. However, there are many other alternatives to choose from when building classifiers. Since all of them have their individual strengths and weaknesses, it is useful to know of different options in order to be able to pick the most suitable one for the purpose. In this module, we shall learn to perform classification with **decision trees**.\n",
    "\n",
    "When contacting a company's customer service by phone, one is often subjected to a series of questions (\"Are you a private or business client?\" etc.), and asked to perform selections according to the specific issue or problem behind the phone call. Having given answers to these questions, the caller is finally directed to the appropriate service person with the necessary expertise to help or give advice. This is essentially what happens when using decision trees as classifiers: the tree consists of a flowchart-like succession of questions concerning the values of the samples' input features. The answers to these questions determine the route followed by the sample within the tree structure, ending with the final prediction concerning its target class. \n",
    "\n",
    "As a first example, we once more employ the iris dataset, and build a decision tree classifier for predicting the \"species\" feature. In the following code cell, we download the dataset, preprocess the data into inputs and targets, and extract a test set for hold-out validation. The resulting training set consists of 112 samples, and the remaining 38 form the test set. "
   ]
  },
  {
   "cell_type": "code",
   "id": "ceaaa4d2",
   "metadata": {
    "ExecuteTime": {
     "end_time": "2024-09-01T16:31:26.044242Z",
     "start_time": "2024-09-01T16:31:23.928241Z"
    }
   },
   "source": [
    "import pandas as pd\n",
    "import matplotlib.pyplot as plt\n",
    "from sklearn.model_selection import train_test_split\n",
    "from sklearn.tree import DecisionTreeClassifier, plot_tree  \n",
    "\n",
    "df = pd.read_csv('datasets/iris/iris.csv')\n",
    "X = df.drop(['species'], axis = 1) # input features\n",
    "y = df['species'].astype('category') # target features\n",
    "X_train, X_test, y_train, y_test = train_test_split(X, y, test_size = 0.25, random_state=20) # extract test set\n",
    "print(X_train.shape, X_test.shape, y_train.shape, y_test.shape)"
   ],
   "outputs": [
    {
     "name": "stdout",
     "output_type": "stream",
     "text": [
      "(112, 4) (38, 4) (112,) (38,)\n"
     ]
    }
   ],
   "execution_count": 1
  },
  {
   "cell_type": "markdown",
   "id": "951bdf0f-4718-49d3-ab5f-15f53365ee6d",
   "metadata": {},
   "source": [
    "Building a decision tree using Scikit-learn library is an easy task: first, one creates an instance of `DecisionTreeClassifier` class, and trains the model using its `fit` method, with the training set features and labels as parameters. The optional parameter `max_depth` restricts the size of the resulting tree structure. "
   ]
  },
  {
   "cell_type": "code",
   "id": "1081598f-221e-49b1-8c41-d957a2602c2e",
   "metadata": {
    "ExecuteTime": {
     "end_time": "2024-09-01T16:31:26.053969Z",
     "start_time": "2024-09-01T16:31:26.044242Z"
    }
   },
   "source": [
    "model = DecisionTreeClassifier(max_depth=2, random_state=20)\n",
    "model.fit(X_train, y_train)"
   ],
   "outputs": [
    {
     "data": {
      "text/plain": [
       "DecisionTreeClassifier(max_depth=2, random_state=20)"
      ],
      "text/html": [
       "<style>#sk-container-id-1 {\n",
       "  /* Definition of color scheme common for light and dark mode */\n",
       "  --sklearn-color-text: black;\n",
       "  --sklearn-color-line: gray;\n",
       "  /* Definition of color scheme for unfitted estimators */\n",
       "  --sklearn-color-unfitted-level-0: #fff5e6;\n",
       "  --sklearn-color-unfitted-level-1: #f6e4d2;\n",
       "  --sklearn-color-unfitted-level-2: #ffe0b3;\n",
       "  --sklearn-color-unfitted-level-3: chocolate;\n",
       "  /* Definition of color scheme for fitted estimators */\n",
       "  --sklearn-color-fitted-level-0: #f0f8ff;\n",
       "  --sklearn-color-fitted-level-1: #d4ebff;\n",
       "  --sklearn-color-fitted-level-2: #b3dbfd;\n",
       "  --sklearn-color-fitted-level-3: cornflowerblue;\n",
       "\n",
       "  /* Specific color for light theme */\n",
       "  --sklearn-color-text-on-default-background: var(--sg-text-color, var(--theme-code-foreground, var(--jp-content-font-color1, black)));\n",
       "  --sklearn-color-background: var(--sg-background-color, var(--theme-background, var(--jp-layout-color0, white)));\n",
       "  --sklearn-color-border-box: var(--sg-text-color, var(--theme-code-foreground, var(--jp-content-font-color1, black)));\n",
       "  --sklearn-color-icon: #696969;\n",
       "\n",
       "  @media (prefers-color-scheme: dark) {\n",
       "    /* Redefinition of color scheme for dark theme */\n",
       "    --sklearn-color-text-on-default-background: var(--sg-text-color, var(--theme-code-foreground, var(--jp-content-font-color1, white)));\n",
       "    --sklearn-color-background: var(--sg-background-color, var(--theme-background, var(--jp-layout-color0, #111)));\n",
       "    --sklearn-color-border-box: var(--sg-text-color, var(--theme-code-foreground, var(--jp-content-font-color1, white)));\n",
       "    --sklearn-color-icon: #878787;\n",
       "  }\n",
       "}\n",
       "\n",
       "#sk-container-id-1 {\n",
       "  color: var(--sklearn-color-text);\n",
       "}\n",
       "\n",
       "#sk-container-id-1 pre {\n",
       "  padding: 0;\n",
       "}\n",
       "\n",
       "#sk-container-id-1 input.sk-hidden--visually {\n",
       "  border: 0;\n",
       "  clip: rect(1px 1px 1px 1px);\n",
       "  clip: rect(1px, 1px, 1px, 1px);\n",
       "  height: 1px;\n",
       "  margin: -1px;\n",
       "  overflow: hidden;\n",
       "  padding: 0;\n",
       "  position: absolute;\n",
       "  width: 1px;\n",
       "}\n",
       "\n",
       "#sk-container-id-1 div.sk-dashed-wrapped {\n",
       "  border: 1px dashed var(--sklearn-color-line);\n",
       "  margin: 0 0.4em 0.5em 0.4em;\n",
       "  box-sizing: border-box;\n",
       "  padding-bottom: 0.4em;\n",
       "  background-color: var(--sklearn-color-background);\n",
       "}\n",
       "\n",
       "#sk-container-id-1 div.sk-container {\n",
       "  /* jupyter's `normalize.less` sets `[hidden] { display: none; }`\n",
       "     but bootstrap.min.css set `[hidden] { display: none !important; }`\n",
       "     so we also need the `!important` here to be able to override the\n",
       "     default hidden behavior on the sphinx rendered scikit-learn.org.\n",
       "     See: https://github.com/scikit-learn/scikit-learn/issues/21755 */\n",
       "  display: inline-block !important;\n",
       "  position: relative;\n",
       "}\n",
       "\n",
       "#sk-container-id-1 div.sk-text-repr-fallback {\n",
       "  display: none;\n",
       "}\n",
       "\n",
       "div.sk-parallel-item,\n",
       "div.sk-serial,\n",
       "div.sk-item {\n",
       "  /* draw centered vertical line to link estimators */\n",
       "  background-image: linear-gradient(var(--sklearn-color-text-on-default-background), var(--sklearn-color-text-on-default-background));\n",
       "  background-size: 2px 100%;\n",
       "  background-repeat: no-repeat;\n",
       "  background-position: center center;\n",
       "}\n",
       "\n",
       "/* Parallel-specific style estimator block */\n",
       "\n",
       "#sk-container-id-1 div.sk-parallel-item::after {\n",
       "  content: \"\";\n",
       "  width: 100%;\n",
       "  border-bottom: 2px solid var(--sklearn-color-text-on-default-background);\n",
       "  flex-grow: 1;\n",
       "}\n",
       "\n",
       "#sk-container-id-1 div.sk-parallel {\n",
       "  display: flex;\n",
       "  align-items: stretch;\n",
       "  justify-content: center;\n",
       "  background-color: var(--sklearn-color-background);\n",
       "  position: relative;\n",
       "}\n",
       "\n",
       "#sk-container-id-1 div.sk-parallel-item {\n",
       "  display: flex;\n",
       "  flex-direction: column;\n",
       "}\n",
       "\n",
       "#sk-container-id-1 div.sk-parallel-item:first-child::after {\n",
       "  align-self: flex-end;\n",
       "  width: 50%;\n",
       "}\n",
       "\n",
       "#sk-container-id-1 div.sk-parallel-item:last-child::after {\n",
       "  align-self: flex-start;\n",
       "  width: 50%;\n",
       "}\n",
       "\n",
       "#sk-container-id-1 div.sk-parallel-item:only-child::after {\n",
       "  width: 0;\n",
       "}\n",
       "\n",
       "/* Serial-specific style estimator block */\n",
       "\n",
       "#sk-container-id-1 div.sk-serial {\n",
       "  display: flex;\n",
       "  flex-direction: column;\n",
       "  align-items: center;\n",
       "  background-color: var(--sklearn-color-background);\n",
       "  padding-right: 1em;\n",
       "  padding-left: 1em;\n",
       "}\n",
       "\n",
       "\n",
       "/* Toggleable style: style used for estimator/Pipeline/ColumnTransformer box that is\n",
       "clickable and can be expanded/collapsed.\n",
       "- Pipeline and ColumnTransformer use this feature and define the default style\n",
       "- Estimators will overwrite some part of the style using the `sk-estimator` class\n",
       "*/\n",
       "\n",
       "/* Pipeline and ColumnTransformer style (default) */\n",
       "\n",
       "#sk-container-id-1 div.sk-toggleable {\n",
       "  /* Default theme specific background. It is overwritten whether we have a\n",
       "  specific estimator or a Pipeline/ColumnTransformer */\n",
       "  background-color: var(--sklearn-color-background);\n",
       "}\n",
       "\n",
       "/* Toggleable label */\n",
       "#sk-container-id-1 label.sk-toggleable__label {\n",
       "  cursor: pointer;\n",
       "  display: block;\n",
       "  width: 100%;\n",
       "  margin-bottom: 0;\n",
       "  padding: 0.5em;\n",
       "  box-sizing: border-box;\n",
       "  text-align: center;\n",
       "}\n",
       "\n",
       "#sk-container-id-1 label.sk-toggleable__label-arrow:before {\n",
       "  /* Arrow on the left of the label */\n",
       "  content: \"▸\";\n",
       "  float: left;\n",
       "  margin-right: 0.25em;\n",
       "  color: var(--sklearn-color-icon);\n",
       "}\n",
       "\n",
       "#sk-container-id-1 label.sk-toggleable__label-arrow:hover:before {\n",
       "  color: var(--sklearn-color-text);\n",
       "}\n",
       "\n",
       "/* Toggleable content - dropdown */\n",
       "\n",
       "#sk-container-id-1 div.sk-toggleable__content {\n",
       "  max-height: 0;\n",
       "  max-width: 0;\n",
       "  overflow: hidden;\n",
       "  text-align: left;\n",
       "  /* unfitted */\n",
       "  background-color: var(--sklearn-color-unfitted-level-0);\n",
       "}\n",
       "\n",
       "#sk-container-id-1 div.sk-toggleable__content.fitted {\n",
       "  /* fitted */\n",
       "  background-color: var(--sklearn-color-fitted-level-0);\n",
       "}\n",
       "\n",
       "#sk-container-id-1 div.sk-toggleable__content pre {\n",
       "  margin: 0.2em;\n",
       "  border-radius: 0.25em;\n",
       "  color: var(--sklearn-color-text);\n",
       "  /* unfitted */\n",
       "  background-color: var(--sklearn-color-unfitted-level-0);\n",
       "}\n",
       "\n",
       "#sk-container-id-1 div.sk-toggleable__content.fitted pre {\n",
       "  /* unfitted */\n",
       "  background-color: var(--sklearn-color-fitted-level-0);\n",
       "}\n",
       "\n",
       "#sk-container-id-1 input.sk-toggleable__control:checked~div.sk-toggleable__content {\n",
       "  /* Expand drop-down */\n",
       "  max-height: 200px;\n",
       "  max-width: 100%;\n",
       "  overflow: auto;\n",
       "}\n",
       "\n",
       "#sk-container-id-1 input.sk-toggleable__control:checked~label.sk-toggleable__label-arrow:before {\n",
       "  content: \"▾\";\n",
       "}\n",
       "\n",
       "/* Pipeline/ColumnTransformer-specific style */\n",
       "\n",
       "#sk-container-id-1 div.sk-label input.sk-toggleable__control:checked~label.sk-toggleable__label {\n",
       "  color: var(--sklearn-color-text);\n",
       "  background-color: var(--sklearn-color-unfitted-level-2);\n",
       "}\n",
       "\n",
       "#sk-container-id-1 div.sk-label.fitted input.sk-toggleable__control:checked~label.sk-toggleable__label {\n",
       "  background-color: var(--sklearn-color-fitted-level-2);\n",
       "}\n",
       "\n",
       "/* Estimator-specific style */\n",
       "\n",
       "/* Colorize estimator box */\n",
       "#sk-container-id-1 div.sk-estimator input.sk-toggleable__control:checked~label.sk-toggleable__label {\n",
       "  /* unfitted */\n",
       "  background-color: var(--sklearn-color-unfitted-level-2);\n",
       "}\n",
       "\n",
       "#sk-container-id-1 div.sk-estimator.fitted input.sk-toggleable__control:checked~label.sk-toggleable__label {\n",
       "  /* fitted */\n",
       "  background-color: var(--sklearn-color-fitted-level-2);\n",
       "}\n",
       "\n",
       "#sk-container-id-1 div.sk-label label.sk-toggleable__label,\n",
       "#sk-container-id-1 div.sk-label label {\n",
       "  /* The background is the default theme color */\n",
       "  color: var(--sklearn-color-text-on-default-background);\n",
       "}\n",
       "\n",
       "/* On hover, darken the color of the background */\n",
       "#sk-container-id-1 div.sk-label:hover label.sk-toggleable__label {\n",
       "  color: var(--sklearn-color-text);\n",
       "  background-color: var(--sklearn-color-unfitted-level-2);\n",
       "}\n",
       "\n",
       "/* Label box, darken color on hover, fitted */\n",
       "#sk-container-id-1 div.sk-label.fitted:hover label.sk-toggleable__label.fitted {\n",
       "  color: var(--sklearn-color-text);\n",
       "  background-color: var(--sklearn-color-fitted-level-2);\n",
       "}\n",
       "\n",
       "/* Estimator label */\n",
       "\n",
       "#sk-container-id-1 div.sk-label label {\n",
       "  font-family: monospace;\n",
       "  font-weight: bold;\n",
       "  display: inline-block;\n",
       "  line-height: 1.2em;\n",
       "}\n",
       "\n",
       "#sk-container-id-1 div.sk-label-container {\n",
       "  text-align: center;\n",
       "}\n",
       "\n",
       "/* Estimator-specific */\n",
       "#sk-container-id-1 div.sk-estimator {\n",
       "  font-family: monospace;\n",
       "  border: 1px dotted var(--sklearn-color-border-box);\n",
       "  border-radius: 0.25em;\n",
       "  box-sizing: border-box;\n",
       "  margin-bottom: 0.5em;\n",
       "  /* unfitted */\n",
       "  background-color: var(--sklearn-color-unfitted-level-0);\n",
       "}\n",
       "\n",
       "#sk-container-id-1 div.sk-estimator.fitted {\n",
       "  /* fitted */\n",
       "  background-color: var(--sklearn-color-fitted-level-0);\n",
       "}\n",
       "\n",
       "/* on hover */\n",
       "#sk-container-id-1 div.sk-estimator:hover {\n",
       "  /* unfitted */\n",
       "  background-color: var(--sklearn-color-unfitted-level-2);\n",
       "}\n",
       "\n",
       "#sk-container-id-1 div.sk-estimator.fitted:hover {\n",
       "  /* fitted */\n",
       "  background-color: var(--sklearn-color-fitted-level-2);\n",
       "}\n",
       "\n",
       "/* Specification for estimator info (e.g. \"i\" and \"?\") */\n",
       "\n",
       "/* Common style for \"i\" and \"?\" */\n",
       "\n",
       ".sk-estimator-doc-link,\n",
       "a:link.sk-estimator-doc-link,\n",
       "a:visited.sk-estimator-doc-link {\n",
       "  float: right;\n",
       "  font-size: smaller;\n",
       "  line-height: 1em;\n",
       "  font-family: monospace;\n",
       "  background-color: var(--sklearn-color-background);\n",
       "  border-radius: 1em;\n",
       "  height: 1em;\n",
       "  width: 1em;\n",
       "  text-decoration: none !important;\n",
       "  margin-left: 1ex;\n",
       "  /* unfitted */\n",
       "  border: var(--sklearn-color-unfitted-level-1) 1pt solid;\n",
       "  color: var(--sklearn-color-unfitted-level-1);\n",
       "}\n",
       "\n",
       ".sk-estimator-doc-link.fitted,\n",
       "a:link.sk-estimator-doc-link.fitted,\n",
       "a:visited.sk-estimator-doc-link.fitted {\n",
       "  /* fitted */\n",
       "  border: var(--sklearn-color-fitted-level-1) 1pt solid;\n",
       "  color: var(--sklearn-color-fitted-level-1);\n",
       "}\n",
       "\n",
       "/* On hover */\n",
       "div.sk-estimator:hover .sk-estimator-doc-link:hover,\n",
       ".sk-estimator-doc-link:hover,\n",
       "div.sk-label-container:hover .sk-estimator-doc-link:hover,\n",
       ".sk-estimator-doc-link:hover {\n",
       "  /* unfitted */\n",
       "  background-color: var(--sklearn-color-unfitted-level-3);\n",
       "  color: var(--sklearn-color-background);\n",
       "  text-decoration: none;\n",
       "}\n",
       "\n",
       "div.sk-estimator.fitted:hover .sk-estimator-doc-link.fitted:hover,\n",
       ".sk-estimator-doc-link.fitted:hover,\n",
       "div.sk-label-container:hover .sk-estimator-doc-link.fitted:hover,\n",
       ".sk-estimator-doc-link.fitted:hover {\n",
       "  /* fitted */\n",
       "  background-color: var(--sklearn-color-fitted-level-3);\n",
       "  color: var(--sklearn-color-background);\n",
       "  text-decoration: none;\n",
       "}\n",
       "\n",
       "/* Span, style for the box shown on hovering the info icon */\n",
       ".sk-estimator-doc-link span {\n",
       "  display: none;\n",
       "  z-index: 9999;\n",
       "  position: relative;\n",
       "  font-weight: normal;\n",
       "  right: .2ex;\n",
       "  padding: .5ex;\n",
       "  margin: .5ex;\n",
       "  width: min-content;\n",
       "  min-width: 20ex;\n",
       "  max-width: 50ex;\n",
       "  color: var(--sklearn-color-text);\n",
       "  box-shadow: 2pt 2pt 4pt #999;\n",
       "  /* unfitted */\n",
       "  background: var(--sklearn-color-unfitted-level-0);\n",
       "  border: .5pt solid var(--sklearn-color-unfitted-level-3);\n",
       "}\n",
       "\n",
       ".sk-estimator-doc-link.fitted span {\n",
       "  /* fitted */\n",
       "  background: var(--sklearn-color-fitted-level-0);\n",
       "  border: var(--sklearn-color-fitted-level-3);\n",
       "}\n",
       "\n",
       ".sk-estimator-doc-link:hover span {\n",
       "  display: block;\n",
       "}\n",
       "\n",
       "/* \"?\"-specific style due to the `<a>` HTML tag */\n",
       "\n",
       "#sk-container-id-1 a.estimator_doc_link {\n",
       "  float: right;\n",
       "  font-size: 1rem;\n",
       "  line-height: 1em;\n",
       "  font-family: monospace;\n",
       "  background-color: var(--sklearn-color-background);\n",
       "  border-radius: 1rem;\n",
       "  height: 1rem;\n",
       "  width: 1rem;\n",
       "  text-decoration: none;\n",
       "  /* unfitted */\n",
       "  color: var(--sklearn-color-unfitted-level-1);\n",
       "  border: var(--sklearn-color-unfitted-level-1) 1pt solid;\n",
       "}\n",
       "\n",
       "#sk-container-id-1 a.estimator_doc_link.fitted {\n",
       "  /* fitted */\n",
       "  border: var(--sklearn-color-fitted-level-1) 1pt solid;\n",
       "  color: var(--sklearn-color-fitted-level-1);\n",
       "}\n",
       "\n",
       "/* On hover */\n",
       "#sk-container-id-1 a.estimator_doc_link:hover {\n",
       "  /* unfitted */\n",
       "  background-color: var(--sklearn-color-unfitted-level-3);\n",
       "  color: var(--sklearn-color-background);\n",
       "  text-decoration: none;\n",
       "}\n",
       "\n",
       "#sk-container-id-1 a.estimator_doc_link.fitted:hover {\n",
       "  /* fitted */\n",
       "  background-color: var(--sklearn-color-fitted-level-3);\n",
       "}\n",
       "</style><div id=\"sk-container-id-1\" class=\"sk-top-container\"><div class=\"sk-text-repr-fallback\"><pre>DecisionTreeClassifier(max_depth=2, random_state=20)</pre><b>In a Jupyter environment, please rerun this cell to show the HTML representation or trust the notebook. <br />On GitHub, the HTML representation is unable to render, please try loading this page with nbviewer.org.</b></div><div class=\"sk-container\" hidden><div class=\"sk-item\"><div class=\"sk-estimator fitted sk-toggleable\"><input class=\"sk-toggleable__control sk-hidden--visually\" id=\"sk-estimator-id-1\" type=\"checkbox\" checked><label for=\"sk-estimator-id-1\" class=\"sk-toggleable__label fitted sk-toggleable__label-arrow fitted\">&nbsp;&nbsp;DecisionTreeClassifier<a class=\"sk-estimator-doc-link fitted\" rel=\"noreferrer\" target=\"_blank\" href=\"https://scikit-learn.org/1.4/modules/generated/sklearn.tree.DecisionTreeClassifier.html\">?<span>Documentation for DecisionTreeClassifier</span></a><span class=\"sk-estimator-doc-link fitted\">i<span>Fitted</span></span></label><div class=\"sk-toggleable__content fitted\"><pre>DecisionTreeClassifier(max_depth=2, random_state=20)</pre></div> </div></div></div></div>"
      ]
     },
     "execution_count": 2,
     "metadata": {},
     "output_type": "execute_result"
    }
   ],
   "execution_count": 2
  },
  {
   "cell_type": "markdown",
   "id": "f8ccc860-799a-4708-83d8-a7a656f79f00",
   "metadata": {},
   "source": [
    "Once the classifier has been constructed, it can easily be visualized as follows:"
   ]
  },
  {
   "cell_type": "code",
   "id": "f80d7741",
   "metadata": {
    "ExecuteTime": {
     "end_time": "2024-09-01T16:31:26.237045Z",
     "start_time": "2024-09-01T16:31:26.053969Z"
    }
   },
   "source": [
    "fig = plt.figure(figsize = (4, 4))\n",
    "plot_tree(model, feature_names = X.keys(), class_names = ['setosa', 'versicolor', 'virginica'])\n",
    "plt.show()"
   ],
   "outputs": [
    {
     "data": {
      "text/plain": [
       "<Figure size 400x400 with 1 Axes>"
      ],
      "image/png": "[encoded data removed]"
     },
     "metadata": {},
     "output_type": "display_data"
    }
   ],
   "execution_count": 3
  },
  {
   "cell_type": "markdown",
   "id": "b3a74b7b",
   "metadata": {},
   "source": [
    "The uppermost node of the tree is the **root** node, and contains the first question concerning the input features of the sample. In this particular tree, this node checks whether the value of the `petal_length` variable is less than or equal to 2,6 cm. Depending on the binary-valued answer (True/False) to this question, the sample is directed to one of two alternative **child** nodes. \n",
    "\n",
    "If the condition is true, the child node on the left is selected. The process then immediately terminates, the node being a **leaf** with the predicted target class \"setosa\". In our example, this happens with 38 samples (out of the total of 112), and all of them also turn out to have \"setosa\" as their true class label. The class distribution for the samples in the node is displayed as the \"value\" array.\n",
    "\n",
    "The remaining 74 samples, for which the condition in the root node is false, are directed to the right-hand side child node. There they are subjected to a further split, this time according to the value of the variable `petal_width`. Depending on whether this value is less than or equal to 1,75 cm, the process finishes with two leaf nodes, and the target class for the sample is predicted to be either \"versicolor\" or \"virginica\", respectively. \n",
    "\n",
    "Note that two of the 112 samples in the training set end up with false predictions with this classifier: one of the 36 samples with the predicted class \"versicolor\" are actually of type \"virginica\", and one of the 38 samples with the predicted class \"virginica\" are actually of type \"versicolor\".\n",
    "\n",
    "This simple example emphasizes the main advantage of using decision trees as classifiers: they are easy to visualize and interpret, and the operational logic behind the class predictions is entirely transparent. The most important input features are easily recognized: in this example, petal length and petal width appear to indicate the target class fairly well, at least within the training set. This is in contrast to kNN classifiers, where no separate model of the situation is ever constructed; instead, the classification relies on feature-value comparisons between samples. For this reason, kNN algorithms also run into difficulties with large datasets and large numbers of features. When the problems grow in size, decision trees have better scaling properties. Also, decision tree algorithms simplify preprocessing, as they do not require standardization: the feature values are always checked separately, one at a time.   \n",
    "\n",
    "To assess the performance of our classifier, we test it with previously unseen data in the test set. The sample classes are determined with the `predict` method, and compared with the true labels; the results are presented as a confusion matrix."
   ]
  },
  {
   "cell_type": "code",
   "id": "545a84b5",
   "metadata": {
    "ExecuteTime": {
     "end_time": "2024-09-01T16:31:26.243366Z",
     "start_time": "2024-09-01T16:31:26.237045Z"
    }
   },
   "source": [
    "from sklearn.metrics import confusion_matrix\n",
    "\n",
    "preds = model.predict(X_test)\n",
    "confusion_matrix(y_test, preds)"
   ],
   "outputs": [
    {
     "data": {
      "text/plain": [
       "array([[12,  0,  0],\n",
       "       [ 0, 14,  0],\n",
       "       [ 0,  4,  8]], dtype=int64)"
      ]
     },
     "execution_count": 4,
     "metadata": {},
     "output_type": "execute_result"
    }
   ],
   "execution_count": 4
  },
  {
   "cell_type": "markdown",
   "id": "cdcbea43-ca99-4ff4-868a-a0e187c9c603",
   "metadata": {},
   "source": [
    "From the total of 38 samples in the test set, 34 are found to end up with correct class predictions.\n",
    "Four test samples of species \"virginica\", however, are erroneously identified as \"versicolor\" by our simple model. "
   ]
  },
  {
   "metadata": {},
   "cell_type": "markdown",
   "source": [
    "## Building the tree\n",
    "\n",
    "Next we take a look at the strategy behind building a decision tree. What determines the form of the tree, and how are the binary-valued questions in the nodes selected? Which input features and split values would produce best results? All of this happens automatically, but it is useful to understand the main ideas behind this procedure. \n",
    "\n",
    "The standard strategy progresses as follows: start with the root node with all the training samples, and go through the set of alternatives for the first binary question (all the input features, with many different values for the split point). From these alternatives, select the one that produces a division of samples with the most uneven distribution of classes, as quantified in terms of a suitable criterion (to be defined below). Repeat the above procedure with each of the two resulting child nodes and the samples in them, and keep growing the tree further, until some condition for termination is fulfilled; e.g. when all the samples in a node belong to the same class. When this happens, the node becomes a leaf, and the class of the sample is predicted according to the labels of the training samples in that node (with majority voting, if necessary).   \n",
    "\n",
    "The default criterion in Scikit-learn for selecting optimal questions for decision tree nodes is the **Gini index**, which measures the unevenness of distributions. Consider a problem with $N$ different classes, and that the samples in a given node are distributed among the classes with probabilities $p_{i}$, where the index $i = 1, ..., N$. The Gini index for that node is    \n",
    "\n",
    "$$\n",
    "g = 1 - \\sum_{i = 1}^{N} p_{i}^2\n",
    "$$ \n",
    "In the optimal situation all the samples belong to one of the classes: the probability of that class is then one, and all the other probabilities are zero. This results in the Gini index of zero. The worst-case scenario (in view of classification), on the other hand, is when all the class probabilities are equal: $p_{i} = 1/N$ for all $i$, and $g = (N-1)/N$. For a split producing two child nodes (one where the split condition is true, and one where it is false), the Gini index is computed for both of them separately. The Gini index for the entire split is then obtained as a weighted average of them:\n",
    "\n",
    "$$\n",
    "g_{\\rm split} = \\frac{n_{\\rm T} g_{\\rm T} + n_{\\rm F} g_{\\rm F}}{n_{\\rm T} + n_{\\rm F}},\n",
    "$$ \n",
    "where the weighting factor $n_{\\rm T}$ ($n_{\\rm F}$) is the number of samples in node \"true\" (\"false\"). The optimal split condition with the smallest value for $g_{\\rm split}$ is then selected.\n",
    "\n",
    "For example, in the above decision tree, the starting class distribution (shown in the root node) in the training set was $p_{setosa} = p_{virginica} =$ 38/112 and $p_{versicolor} =$ 36/112, resulting in the Gini index of 0,666. After the split chosen for that node, the \"true\" child node has $g_{T} =$ 0, since all the 38 samples ending up there belong to one class, whereas the \"false\" node has $g_{F}$ = 1 $-$ 0 $-$(36/74)$^{2}-$(38/74)$^{2}\\approx$0,5. The Gini index for the entire split is (38$\\cdot$0 + 74$\\cdot$0,5)/112 $\\approx$ 0,33. In this way, the indices for all possible alternative splits are calculated, and the one corresponding to the optimal (smallest) value gets selected. "
   ],
   "id": "98168047633cc20a"
  },
  {
   "metadata": {},
   "cell_type": "markdown",
   "source": [
    "## Further issues with decision trees\n",
    "\n",
    "Let us consider another example, this time with the dataset containing information about passengers on RMS Titanic. First, we preprocess the original dataset by dropping out samples with missing values, and discarding some of the columns containing categorical features:"
   ],
   "id": "b45d6d099cf71e71"
  },
  {
   "metadata": {
    "ExecuteTime": {
     "end_time": "2024-09-01T16:31:26.261427Z",
     "start_time": "2024-09-01T16:31:26.243366Z"
    }
   },
   "cell_type": "code",
   "source": [
    "data = pd.read_csv('datasets/titanic/titanic_orig.csv').dropna()\n",
    "data = data.drop(columns = ['PassengerId','Name','Ticket','Cabin','Embarked'])\n",
    "data.head()"
   ],
   "id": "901fb26f4a6e5d6",
   "outputs": [
    {
     "data": {
      "text/plain": [
       "    Survived  Pclass     Sex   Age  SibSp  Parch     Fare\n",
       "1          1       1  female  38.0      1      0  71.2833\n",
       "3          1       1  female  35.0      1      0  53.1000\n",
       "6          0       1    male  54.0      0      0  51.8625\n",
       "10         1       3  female   4.0      1      1  16.7000\n",
       "11         1       1  female  58.0      0      0  26.5500"
      ],
      "text/html": [
       "<div>\n",
       "<style scoped>\n",
       "    .dataframe tbody tr th:only-of-type {\n",
       "        vertical-align: middle;\n",
       "    }\n",
       "\n",
       "    .dataframe tbody tr th {\n",
       "        vertical-align: top;\n",
       "    }\n",
       "\n",
       "    .dataframe thead th {\n",
       "        text-align: right;\n",
       "    }\n",
       "</style>\n",
       "<table border=\"1\" class=\"dataframe\">\n",
       "  <thead>\n",
       "    <tr style=\"text-align: right;\">\n",
       "      <th></th>\n",
       "      <th>Survived</th>\n",
       "      <th>Pclass</th>\n",
       "      <th>Sex</th>\n",
       "      <th>Age</th>\n",
       "      <th>SibSp</th>\n",
       "      <th>Parch</th>\n",
       "      <th>Fare</th>\n",
       "    </tr>\n",
       "  </thead>\n",
       "  <tbody>\n",
       "    <tr>\n",
       "      <th>1</th>\n",
       "      <td>1</td>\n",
       "      <td>1</td>\n",
       "      <td>female</td>\n",
       "      <td>38.0</td>\n",
       "      <td>1</td>\n",
       "      <td>0</td>\n",
       "      <td>71.2833</td>\n",
       "    </tr>\n",
       "    <tr>\n",
       "      <th>3</th>\n",
       "      <td>1</td>\n",
       "      <td>1</td>\n",
       "      <td>female</td>\n",
       "      <td>35.0</td>\n",
       "      <td>1</td>\n",
       "      <td>0</td>\n",
       "      <td>53.1000</td>\n",
       "    </tr>\n",
       "    <tr>\n",
       "      <th>6</th>\n",
       "      <td>0</td>\n",
       "      <td>1</td>\n",
       "      <td>male</td>\n",
       "      <td>54.0</td>\n",
       "      <td>0</td>\n",
       "      <td>0</td>\n",
       "      <td>51.8625</td>\n",
       "    </tr>\n",
       "    <tr>\n",
       "      <th>10</th>\n",
       "      <td>1</td>\n",
       "      <td>3</td>\n",
       "      <td>female</td>\n",
       "      <td>4.0</td>\n",
       "      <td>1</td>\n",
       "      <td>1</td>\n",
       "      <td>16.7000</td>\n",
       "    </tr>\n",
       "    <tr>\n",
       "      <th>11</th>\n",
       "      <td>1</td>\n",
       "      <td>1</td>\n",
       "      <td>female</td>\n",
       "      <td>58.0</td>\n",
       "      <td>0</td>\n",
       "      <td>0</td>\n",
       "      <td>26.5500</td>\n",
       "    </tr>\n",
       "  </tbody>\n",
       "</table>\n",
       "</div>"
      ]
     },
     "execution_count": 5,
     "metadata": {},
     "output_type": "execute_result"
    }
   ],
   "execution_count": 5
  },
  {
   "metadata": {},
   "cell_type": "markdown",
   "source": [
    "The leftmost column \"Survived\" is our binary target variable (0 = did not survive, 1 = survived). Among the input variables there are two continuously varying numerical features (Age, Fare), three discrete-valued numerical features (Pclass, SibSp, Parch), and one categorical feature (Sex). \n",
    "\n",
    "**NOTE:** Decision trees in Scikit-learn can only treat numerical input features. Therefore, the string-valued \"Sex\" column has to be converted to numerical form (0 and 1). For this purpose, we use the pandas `get_dummies` function, which transforms categorical columns to **one-hot-encoded** form:   "
   ],
   "id": "437fa4636ee31dd4"
  },
  {
   "metadata": {
    "ExecuteTime": {
     "end_time": "2024-09-01T16:31:26.268295Z",
     "start_time": "2024-09-01T16:31:26.261427Z"
    }
   },
   "cell_type": "code",
   "source": [
    "pd.get_dummies(data['Sex'], dtype='int64').head()"
   ],
   "id": "c91ddc0eb87cfd8f",
   "outputs": [
    {
     "data": {
      "text/plain": [
       "    female  male\n",
       "1        1     0\n",
       "3        1     0\n",
       "6        0     1\n",
       "10       1     0\n",
       "11       1     0"
      ],
      "text/html": [
       "<div>\n",
       "<style scoped>\n",
       "    .dataframe tbody tr th:only-of-type {\n",
       "        vertical-align: middle;\n",
       "    }\n",
       "\n",
       "    .dataframe tbody tr th {\n",
       "        vertical-align: top;\n",
       "    }\n",
       "\n",
       "    .dataframe thead th {\n",
       "        text-align: right;\n",
       "    }\n",
       "</style>\n",
       "<table border=\"1\" class=\"dataframe\">\n",
       "  <thead>\n",
       "    <tr style=\"text-align: right;\">\n",
       "      <th></th>\n",
       "      <th>female</th>\n",
       "      <th>male</th>\n",
       "    </tr>\n",
       "  </thead>\n",
       "  <tbody>\n",
       "    <tr>\n",
       "      <th>1</th>\n",
       "      <td>1</td>\n",
       "      <td>0</td>\n",
       "    </tr>\n",
       "    <tr>\n",
       "      <th>3</th>\n",
       "      <td>1</td>\n",
       "      <td>0</td>\n",
       "    </tr>\n",
       "    <tr>\n",
       "      <th>6</th>\n",
       "      <td>0</td>\n",
       "      <td>1</td>\n",
       "    </tr>\n",
       "    <tr>\n",
       "      <th>10</th>\n",
       "      <td>1</td>\n",
       "      <td>0</td>\n",
       "    </tr>\n",
       "    <tr>\n",
       "      <th>11</th>\n",
       "      <td>1</td>\n",
       "      <td>0</td>\n",
       "    </tr>\n",
       "  </tbody>\n",
       "</table>\n",
       "</div>"
      ]
     },
     "execution_count": 6,
     "metadata": {},
     "output_type": "execute_result"
    }
   ],
   "execution_count": 6
  },
  {
   "metadata": {},
   "cell_type": "markdown",
   "source": [
    "From this, we pick the generated \"female\" column, and replace the \"Sex\" column in the original dataframe with its contents. "
   ],
   "id": "ac64418456bf1366"
  },
  {
   "metadata": {
    "ExecuteTime": {
     "end_time": "2024-09-01T16:31:26.276979Z",
     "start_time": "2024-09-01T16:31:26.268295Z"
    }
   },
   "cell_type": "code",
   "source": [
    "data['Sex'] =pd.get_dummies(data['Sex'], dtype='int64')['female']\n",
    "data.head()"
   ],
   "id": "f45374e9f4615a7d",
   "outputs": [
    {
     "data": {
      "text/plain": [
       "    Survived  Pclass  Sex   Age  SibSp  Parch     Fare\n",
       "1          1       1    1  38.0      1      0  71.2833\n",
       "3          1       1    1  35.0      1      0  53.1000\n",
       "6          0       1    0  54.0      0      0  51.8625\n",
       "10         1       3    1   4.0      1      1  16.7000\n",
       "11         1       1    1  58.0      0      0  26.5500"
      ],
      "text/html": [
       "<div>\n",
       "<style scoped>\n",
       "    .dataframe tbody tr th:only-of-type {\n",
       "        vertical-align: middle;\n",
       "    }\n",
       "\n",
       "    .dataframe tbody tr th {\n",
       "        vertical-align: top;\n",
       "    }\n",
       "\n",
       "    .dataframe thead th {\n",
       "        text-align: right;\n",
       "    }\n",
       "</style>\n",
       "<table border=\"1\" class=\"dataframe\">\n",
       "  <thead>\n",
       "    <tr style=\"text-align: right;\">\n",
       "      <th></th>\n",
       "      <th>Survived</th>\n",
       "      <th>Pclass</th>\n",
       "      <th>Sex</th>\n",
       "      <th>Age</th>\n",
       "      <th>SibSp</th>\n",
       "      <th>Parch</th>\n",
       "      <th>Fare</th>\n",
       "    </tr>\n",
       "  </thead>\n",
       "  <tbody>\n",
       "    <tr>\n",
       "      <th>1</th>\n",
       "      <td>1</td>\n",
       "      <td>1</td>\n",
       "      <td>1</td>\n",
       "      <td>38.0</td>\n",
       "      <td>1</td>\n",
       "      <td>0</td>\n",
       "      <td>71.2833</td>\n",
       "    </tr>\n",
       "    <tr>\n",
       "      <th>3</th>\n",
       "      <td>1</td>\n",
       "      <td>1</td>\n",
       "      <td>1</td>\n",
       "      <td>35.0</td>\n",
       "      <td>1</td>\n",
       "      <td>0</td>\n",
       "      <td>53.1000</td>\n",
       "    </tr>\n",
       "    <tr>\n",
       "      <th>6</th>\n",
       "      <td>0</td>\n",
       "      <td>1</td>\n",
       "      <td>0</td>\n",
       "      <td>54.0</td>\n",
       "      <td>0</td>\n",
       "      <td>0</td>\n",
       "      <td>51.8625</td>\n",
       "    </tr>\n",
       "    <tr>\n",
       "      <th>10</th>\n",
       "      <td>1</td>\n",
       "      <td>3</td>\n",
       "      <td>1</td>\n",
       "      <td>4.0</td>\n",
       "      <td>1</td>\n",
       "      <td>1</td>\n",
       "      <td>16.7000</td>\n",
       "    </tr>\n",
       "    <tr>\n",
       "      <th>11</th>\n",
       "      <td>1</td>\n",
       "      <td>1</td>\n",
       "      <td>1</td>\n",
       "      <td>58.0</td>\n",
       "      <td>0</td>\n",
       "      <td>0</td>\n",
       "      <td>26.5500</td>\n",
       "    </tr>\n",
       "  </tbody>\n",
       "</table>\n",
       "</div>"
      ]
     },
     "execution_count": 7,
     "metadata": {},
     "output_type": "execute_result"
    }
   ],
   "execution_count": 7
  },
  {
   "metadata": {},
   "cell_type": "markdown",
   "source": [
    "Now we can proceed to extract the sets for training and testing:"
   ],
   "id": "7a59648db5885185"
  },
  {
   "metadata": {
    "ExecuteTime": {
     "end_time": "2024-09-01T16:31:26.283514Z",
     "start_time": "2024-09-01T16:31:26.276979Z"
    }
   },
   "cell_type": "code",
   "source": [
    "X = data.drop(['Survived'], axis = 1) # input features\n",
    "y = data['Survived'] # target features\n",
    "X_train, X_test, y_train, y_test = train_test_split(X, y, test_size = 0.25, random_state=20)\n",
    "print(X_train.shape, X_test.shape, y_train.shape, y_test.shape)"
   ],
   "id": "bb4350283e64525e",
   "outputs": [
    {
     "name": "stdout",
     "output_type": "stream",
     "text": [
      "(137, 6) (46, 6) (137,) (46,)\n"
     ]
    }
   ],
   "execution_count": 8
  },
  {
   "metadata": {},
   "cell_type": "markdown",
   "source": [
    "Next we generate a decision tree classifier, but this time without restricting the tree depth. The resulting model is seen to be quite complex in structure:"
   ],
   "id": "2958460c221d6050"
  },
  {
   "metadata": {
    "ExecuteTime": {
     "end_time": "2024-09-01T16:31:27.642329Z",
     "start_time": "2024-09-01T16:31:26.284077Z"
    }
   },
   "cell_type": "code",
   "source": [
    "model = DecisionTreeClassifier(random_state=20).fit(X_train, y_train)\n",
    "fig = plt.figure(figsize = (10, 10))\n",
    "plot_tree(model, feature_names = X.keys(), class_names = ['deceased', 'survived'])\n",
    "plt.show()"
   ],
   "id": "2633f9259d79aa88",
   "outputs": [
    {
     "data": {
      "text/plain": [
       "<Figure size 1000x1000 with 1 Axes>"
      ],
      "image/png": "[encoded data removed]"
     },
     "metadata": {},
     "output_type": "display_data"
    }
   ],
   "execution_count": 9
  },
  {
   "metadata": {},
   "cell_type": "markdown",
   "source": [
    "The tree has been grown to the extent that it is able to predict the classes for all the training samples correctly. However, as discussed in the previous module, very large models often exhibit symptoms of overfitting. Indeed, when tested with new data in the test set, 14 samples out of the total of 46 end up with erroneous predictions: "
   ],
   "id": "9002ea17ca4255ab"
  },
  {
   "metadata": {
    "ExecuteTime": {
     "end_time": "2024-09-01T16:31:27.650005Z",
     "start_time": "2024-09-01T16:31:27.642329Z"
    }
   },
   "cell_type": "code",
   "source": [
    "preds = model.predict(X_test)\n",
    "confusion_matrix(y_test, preds)"
   ],
   "id": "ec969a40dfc5a99b",
   "outputs": [
    {
     "data": {
      "text/plain": [
       "array([[ 7,  7],\n",
       "       [ 7, 25]], dtype=int64)"
      ]
     },
     "execution_count": 10,
     "metadata": {},
     "output_type": "execute_result"
    }
   ],
   "execution_count": 10
  },
  {
   "metadata": {},
   "cell_type": "markdown",
   "source": [
    "To reduce overfitting, the `max_depth` parameter could again be used to prevent the growing of the tree beyond a predetermined size. In addition to this, there is another alternative approach called **pruning**. This means that the model is first allowed to grow unrestricted, but is then simplified afterwards by replacing splits with leaf nodes. A definite strategy called \"cost-complexity pruning\" is easily implemented by simply adding a new float-valued parameter `ccp_alpha` when creating the classifier instance; larger values result in more pruning, and a less complex model. More details on cost-complexity pruning can be found in Scikit-learn documentation.  "
   ],
   "id": "89ae1ff658a779b4"
  },
  {
   "metadata": {
    "ExecuteTime": {
     "end_time": "2024-09-01T16:31:28.078691Z",
     "start_time": "2024-09-01T16:31:27.650005Z"
    }
   },
   "cell_type": "code",
   "source": [
    "model_pruned = DecisionTreeClassifier(random_state=20, ccp_alpha=0.012).fit(X_train, y_train)\n",
    "fig = plt.figure(figsize = (5, 5))\n",
    "plot_tree(model_pruned, feature_names = X.keys(), class_names = ['deceased', 'survived'])\n",
    "plt.show()"
   ],
   "id": "591cf020d7fdebff",
   "outputs": [
    {
     "data": {
      "text/plain": [
       "<Figure size 500x500 with 1 Axes>"
      ],
      "image/png": "[encoded data removed]"
     },
     "metadata": {},
     "output_type": "display_data"
    }
   ],
   "execution_count": 11
  },
  {
   "metadata": {},
   "cell_type": "markdown",
   "source": [
    "When tested, the pruned model has a slightly better accuracy (see the code cell below). However, the essential improvement is that the pruned model is much easier to interpret than the original complex one."
   ],
   "id": "b4c02bfa057f8cbb"
  },
  {
   "metadata": {
    "ExecuteTime": {
     "end_time": "2024-09-01T16:31:28.087037Z",
     "start_time": "2024-09-01T16:31:28.078691Z"
    }
   },
   "cell_type": "code",
   "source": [
    "preds = model_pruned.predict(X_test)\n",
    "confusion_matrix(y_test, preds)"
   ],
   "id": "1247bdb311087653",
   "outputs": [
    {
     "data": {
      "text/plain": [
       "array([[ 8,  6],\n",
       "       [ 4, 28]], dtype=int64)"
      ]
     },
     "execution_count": 12,
     "metadata": {},
     "output_type": "execute_result"
    }
   ],
   "execution_count": 12
  },
  {
   "metadata": {},
   "cell_type": "markdown",
   "source": [
    "Finally, note that above we have used the same test set twice for assessing the performance of two different models. This has been done only in order to introduce the concept of pruning, and to help understanding its effects - not as an appropriate strategy to follow in actual machine learning projects.   "
   ],
   "id": "3c62524bf5070799"
  },
  {
   "metadata": {},
   "cell_type": "code",
   "outputs": [],
   "execution_count": null,
   "source": [],
   "id": "c85545ed3d82cedf"
  }
 ],
 "metadata": {
  "kernelspec": {
   "display_name": "Python 3 (ipykernel)",
   "language": "python",
   "name": "python3"
  },
  "language_info": {
   "codemirror_mode": {
    "name": "ipython",
    "version": 3
   },
   "file_extension": ".py",
   "mimetype": "text/x-python",
   "name": "python",
   "nbconvert_exporter": "python",
   "pygments_lexer": "ipython3",
   "version": "3.9.18"
  }
 },
 "nbformat": 4,
 "nbformat_minor": 5
}
