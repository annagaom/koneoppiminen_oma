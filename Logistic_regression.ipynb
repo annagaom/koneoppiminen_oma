{
 "cells": [
  {
   "cell_type": "markdown",
   "source": [
    "# 8. Logistic regression\n",
    "\n",
    "Previously, we learned about linear regression, which is a method to predict continuous numerical values of the response variable. Examples of such values are the price of a house, or the temperature of a city.\n",
    "\n",
    "In this notebook, we will learn about logistic regression, which is used to predict binary outcomes. A binary outcome means that there are only two options: the event happens (1) or the event does not happen (0). Examples of binary outcomes are whether a patient has a disease or not, whether a customer will buy a product or not, or whether a student will pass an exam or not.\n",
    "\n",
    "It turns out that the linear regression machinery can be adapted to predict binary outcomes. The key idea is to transform the output of the linear regression into a probability. This is done by using the logistic function, which is a mathematical function that maps any real number *x* to *y* values in the interval [0, 1]:\n",
    "\n",
    "$$\n",
    "y = \\frac{1}{1 + e^{-x}}\n",
    "$$\n"
   ],
   "metadata": {
    "collapsed": false
   }
  },
  {
   "cell_type": "markdown",
   "source": [
    "The following Python code plots the mapping of the logistic function, which is an example of a sigmoid (or, s-shaped) function."
   ],
   "metadata": {
    "collapsed": false
   }
  },
  {
   "cell_type": "code",
   "execution_count": 47,
   "outputs": [
    {
     "data": {
      "text/plain": "<Figure size 640x480 with 1 Axes>",
      "image/png": "[encoded data removed]"
     },
     "metadata": {},
     "output_type": "display_data"
    }
   ],
   "source": [
    "# visualize the sigmoid function\n",
    "import numpy as np\n",
    "import matplotlib.pyplot as plt\n",
    "\n",
    "x = np.linspace(-5, 5, 100)\n",
    "y = 1 / (1 + np.exp(-x))\n",
    "\n",
    "plt.plot(x, y)\n",
    "plt.xlabel('x (unbounded)')\n",
    "plt.ylabel('y (probability)')\n",
    "plt.title('Logistic function')\n",
    "plt.grid()\n",
    "\n",
    "plt.show()"
   ],
   "metadata": {
    "collapsed": false,
    "ExecuteTime": {
     "end_time": "2024-08-30T11:55:49.924747Z",
     "start_time": "2024-08-30T11:55:49.824144Z"
    }
   }
  },
  {
   "cell_type": "markdown",
   "source": [
    "In a nutshell, the idea of logistic regression is to apply the linear regression machinery to predict a continuous value, and then to transform this value into a probability using the logistic function. The value can either be used to make a binary decision, or consumed as such as a probability.\n",
    "\n",
    "In logistic regression, the goal is to minimize the log-loss function, which is a measure of how well the model predicts the probability of the outcome. The log-loss function is defined as:\n",
    "\n",
    "$$\n",
    "\n",
    "\\text{LogLoss} = -\\frac{1}{N} \\sum_{i=1}^{N} [y_i \\log(p_i) + (1 - y_i) \\log(1 - p_i)]\n",
    "\n",
    "$$\n",
    "\n",
    "where:\n",
    "\n",
    "- $N$ is the number of observations.\n",
    "- $y_i$ is the true class label of the $i$-th observation.\n",
    "- $p_i$ is the predicted probability of the $i$-th observation.\n",
    "\n",
    "The log-loss function penalizes the model more when it predicts a high probability for the wrong class, and less when it predicts a low probability for the wrong class.\n",
    "\n",
    "## Prerequisites for logistic regression\n",
    "\n",
    "There are a few prerequisites for logistic regression:\n",
    "\n",
    "- The target variable should be binary. Some implementations can handle multi-class classification, but the basic idea is to predict binary outcomes.\n",
    "\n",
    "- There should be a linear relationship between each predictor variable and the log-odds of the outcome.\n",
    "\n",
    "- Observations should be independent of each other.\n",
    "\n",
    "- Predictor variables should not be perfectly collinear (i.e. highly correlated). Multicollinearity among predictors can lead to unstable estimates.\n",
    "\n",
    "## Building and validating a logistic regression model\n",
    "\n",
    "The following dataset contains information about patients that have previously experienced a stroke. The subjects have been followed up for a period of time, and the dataset contains information about whether the patient has had a second stroke or not. The goal is to make a predictive model that can predict whether a future patient will have a second stroke or not.\n"
   ],
   "metadata": {
    "collapsed": false
   }
  },
  {
   "cell_type": "markdown",
   "source": [],
   "metadata": {
    "collapsed": false
   }
  },
  {
   "metadata": {
    "ExecuteTime": {
     "end_time": "2024-09-12T10:55:35.335989Z",
     "start_time": "2024-09-12T10:55:35.316562Z"
    }
   },
   "cell_type": "code",
   "source": [
    "import pandas as pd\n",
    "from sklearn.linear_model import LogisticRegression\n",
    "from sklearn.preprocessing import StandardScaler\n",
    "from sklearn.metrics import confusion_matrix\n",
    "\n",
    "# read data (replace with your own path)\n",
    "df = pd.read_csv('datasets/stroke/stroke_v1.csv', sep=',')\n",
    "df"
   ],
   "outputs": [
    {
     "data": {
      "text/plain": [
       "       ID  Weight  Smoking  Exercise  Cholesterol  Income  Exphappiness  \\\n",
       "0       1     117        1         2          8.0    1080            27   \n",
       "1       2      62        0         8          5.5    2120            55   \n",
       "2       3      74        0         6          4.8    3170            65   \n",
       "3       4      77        0         5          4.2    4740            61   \n",
       "4       5      67        0         8          4.5    1900            53   \n",
       "..    ...     ...      ...       ...          ...     ...           ...   \n",
       "995   996      61        0         3          6.5    3360            42   \n",
       "996   997     101        0         5          4.8    3050            36   \n",
       "997   998      90        0         3          7.0    3450            46   \n",
       "998   999      99        0         2          6.2    1650            33   \n",
       "999  1000      84        0         6          5.2    1330            52   \n",
       "\n",
       "     Birthyear Sex  Stroke  \n",
       "0         1913   M       1  \n",
       "1         1949   M       0  \n",
       "2         1976   M       0  \n",
       "3         1973   F       0  \n",
       "4         1929   M       0  \n",
       "..         ...  ..     ...  \n",
       "995       1988   F       0  \n",
       "996       1955   M       1  \n",
       "997       1963   F       0  \n",
       "998       1974   F       1  \n",
       "999       1965   F       0  \n",
       "\n",
       "[1000 rows x 10 columns]"
      ],
      "text/html": [
       "<div>\n",
       "<style scoped>\n",
       "    .dataframe tbody tr th:only-of-type {\n",
       "        vertical-align: middle;\n",
       "    }\n",
       "\n",
       "    .dataframe tbody tr th {\n",
       "        vertical-align: top;\n",
       "    }\n",
       "\n",
       "    .dataframe thead th {\n",
       "        text-align: right;\n",
       "    }\n",
       "</style>\n",
       "<table border=\"1\" class=\"dataframe\">\n",
       "  <thead>\n",
       "    <tr style=\"text-align: right;\">\n",
       "      <th></th>\n",
       "      <th>ID</th>\n",
       "      <th>Weight</th>\n",
       "      <th>Smoking</th>\n",
       "      <th>Exercise</th>\n",
       "      <th>Cholesterol</th>\n",
       "      <th>Income</th>\n",
       "      <th>Exphappiness</th>\n",
       "      <th>Birthyear</th>\n",
       "      <th>Sex</th>\n",
       "      <th>Stroke</th>\n",
       "    </tr>\n",
       "  </thead>\n",
       "  <tbody>\n",
       "    <tr>\n",
       "      <th>0</th>\n",
       "      <td>1</td>\n",
       "      <td>117</td>\n",
       "      <td>1</td>\n",
       "      <td>2</td>\n",
       "      <td>8.0</td>\n",
       "      <td>1080</td>\n",
       "      <td>27</td>\n",
       "      <td>1913</td>\n",
       "      <td>M</td>\n",
       "      <td>1</td>\n",
       "    </tr>\n",
       "    <tr>\n",
       "      <th>1</th>\n",
       "      <td>2</td>\n",
       "      <td>62</td>\n",
       "      <td>0</td>\n",
       "      <td>8</td>\n",
       "      <td>5.5</td>\n",
       "      <td>2120</td>\n",
       "      <td>55</td>\n",
       "      <td>1949</td>\n",
       "      <td>M</td>\n",
       "      <td>0</td>\n",
       "    </tr>\n",
       "    <tr>\n",
       "      <th>2</th>\n",
       "      <td>3</td>\n",
       "      <td>74</td>\n",
       "      <td>0</td>\n",
       "      <td>6</td>\n",
       "      <td>4.8</td>\n",
       "      <td>3170</td>\n",
       "      <td>65</td>\n",
       "      <td>1976</td>\n",
       "      <td>M</td>\n",
       "      <td>0</td>\n",
       "    </tr>\n",
       "    <tr>\n",
       "      <th>3</th>\n",
       "      <td>4</td>\n",
       "      <td>77</td>\n",
       "      <td>0</td>\n",
       "      <td>5</td>\n",
       "      <td>4.2</td>\n",
       "      <td>4740</td>\n",
       "      <td>61</td>\n",
       "      <td>1973</td>\n",
       "      <td>F</td>\n",
       "      <td>0</td>\n",
       "    </tr>\n",
       "    <tr>\n",
       "      <th>4</th>\n",
       "      <td>5</td>\n",
       "      <td>67</td>\n",
       "      <td>0</td>\n",
       "      <td>8</td>\n",
       "      <td>4.5</td>\n",
       "      <td>1900</td>\n",
       "      <td>53</td>\n",
       "      <td>1929</td>\n",
       "      <td>M</td>\n",
       "      <td>0</td>\n",
       "    </tr>\n",
       "    <tr>\n",
       "      <th>...</th>\n",
       "      <td>...</td>\n",
       "      <td>...</td>\n",
       "      <td>...</td>\n",
       "      <td>...</td>\n",
       "      <td>...</td>\n",
       "      <td>...</td>\n",
       "      <td>...</td>\n",
       "      <td>...</td>\n",
       "      <td>...</td>\n",
       "      <td>...</td>\n",
       "    </tr>\n",
       "    <tr>\n",
       "      <th>995</th>\n",
       "      <td>996</td>\n",
       "      <td>61</td>\n",
       "      <td>0</td>\n",
       "      <td>3</td>\n",
       "      <td>6.5</td>\n",
       "      <td>3360</td>\n",
       "      <td>42</td>\n",
       "      <td>1988</td>\n",
       "      <td>F</td>\n",
       "      <td>0</td>\n",
       "    </tr>\n",
       "    <tr>\n",
       "      <th>996</th>\n",
       "      <td>997</td>\n",
       "      <td>101</td>\n",
       "      <td>0</td>\n",
       "      <td>5</td>\n",
       "      <td>4.8</td>\n",
       "      <td>3050</td>\n",
       "      <td>36</td>\n",
       "      <td>1955</td>\n",
       "      <td>M</td>\n",
       "      <td>1</td>\n",
       "    </tr>\n",
       "    <tr>\n",
       "      <th>997</th>\n",
       "      <td>998</td>\n",
       "      <td>90</td>\n",
       "      <td>0</td>\n",
       "      <td>3</td>\n",
       "      <td>7.0</td>\n",
       "      <td>3450</td>\n",
       "      <td>46</td>\n",
       "      <td>1963</td>\n",
       "      <td>F</td>\n",
       "      <td>0</td>\n",
       "    </tr>\n",
       "    <tr>\n",
       "      <th>998</th>\n",
       "      <td>999</td>\n",
       "      <td>99</td>\n",
       "      <td>0</td>\n",
       "      <td>2</td>\n",
       "      <td>6.2</td>\n",
       "      <td>1650</td>\n",
       "      <td>33</td>\n",
       "      <td>1974</td>\n",
       "      <td>F</td>\n",
       "      <td>1</td>\n",
       "    </tr>\n",
       "    <tr>\n",
       "      <th>999</th>\n",
       "      <td>1000</td>\n",
       "      <td>84</td>\n",
       "      <td>0</td>\n",
       "      <td>6</td>\n",
       "      <td>5.2</td>\n",
       "      <td>1330</td>\n",
       "      <td>52</td>\n",
       "      <td>1965</td>\n",
       "      <td>F</td>\n",
       "      <td>0</td>\n",
       "    </tr>\n",
       "  </tbody>\n",
       "</table>\n",
       "<p>1000 rows × 10 columns</p>\n",
       "</div>"
      ]
     },
     "execution_count": 3,
     "metadata": {},
     "output_type": "execute_result"
    }
   ],
   "execution_count": 3
  },
  {
   "metadata": {
    "ExecuteTime": {
     "end_time": "2024-08-30T11:55:49.959595100Z",
     "start_time": "2024-08-30T11:55:49.941430300Z"
    }
   },
   "cell_type": "code",
   "source": [
    "# re-encode sex\n",
    "df['Sex'] = df['Sex'].map({'M': 1, 'F': 2}).astype('int64')\n",
    "\n",
    "# drop id\n",
    "df.drop('ID', axis=1, inplace=True)\n",
    "\n",
    "# convert to floats (except for the target variable)\n",
    "for col in df.columns.values[:-1]:\n",
    "    if df[col].dtype != 'float64':\n",
    "        df[col] = df[col].astype(dtype='float64')\n",
    "\n",
    "df.head(10)"
   ],
   "outputs": [
    {
     "data": {
      "text/plain": "   Weight  Smoking  Exercise  Cholesterol  Income  Exphappiness  Birthyear  \\\n0   117.0      1.0       2.0          8.0  1080.0          27.0     1913.0   \n1    62.0      0.0       8.0          5.5  2120.0          55.0     1949.0   \n2    74.0      0.0       6.0          4.8  3170.0          65.0     1976.0   \n3    77.0      0.0       5.0          4.2  4740.0          61.0     1973.0   \n4    67.0      0.0       8.0          4.5  1900.0          53.0     1929.0   \n5    76.0      0.0       6.0          6.2  3410.0          72.0     1959.0   \n6    63.0      0.0       7.0          4.1  3640.0          71.0     1979.0   \n7    75.0      0.0       5.0          5.2  2500.0          99.0     1960.0   \n8    70.0      0.0       6.0          4.9  2110.0          48.0     1922.0   \n9    82.0      0.0       5.0          5.8  2560.0          34.0     2007.0   \n\n   Sex  Stroke  \n0  1.0       1  \n1  1.0       0  \n2  1.0       0  \n3  2.0       0  \n4  1.0       0  \n5  2.0       0  \n6  2.0       0  \n7  2.0       0  \n8  2.0       0  \n9  2.0       1  ",
      "text/html": "<div>\n<style scoped>\n    .dataframe tbody tr th:only-of-type {\n        vertical-align: middle;\n    }\n\n    .dataframe tbody tr th {\n        vertical-align: top;\n    }\n\n    .dataframe thead th {\n        text-align: right;\n    }\n</style>\n<table border=\"1\" class=\"dataframe\">\n  <thead>\n    <tr style=\"text-align: right;\">\n      <th></th>\n      <th>Weight</th>\n      <th>Smoking</th>\n      <th>Exercise</th>\n      <th>Cholesterol</th>\n      <th>Income</th>\n      <th>Exphappiness</th>\n      <th>Birthyear</th>\n      <th>Sex</th>\n      <th>Stroke</th>\n    </tr>\n  </thead>\n  <tbody>\n    <tr>\n      <th>0</th>\n      <td>117.0</td>\n      <td>1.0</td>\n      <td>2.0</td>\n      <td>8.0</td>\n      <td>1080.0</td>\n      <td>27.0</td>\n      <td>1913.0</td>\n      <td>1.0</td>\n      <td>1</td>\n    </tr>\n    <tr>\n      <th>1</th>\n      <td>62.0</td>\n      <td>0.0</td>\n      <td>8.0</td>\n      <td>5.5</td>\n      <td>2120.0</td>\n      <td>55.0</td>\n      <td>1949.0</td>\n      <td>1.0</td>\n      <td>0</td>\n    </tr>\n    <tr>\n      <th>2</th>\n      <td>74.0</td>\n      <td>0.0</td>\n      <td>6.0</td>\n      <td>4.8</td>\n      <td>3170.0</td>\n      <td>65.0</td>\n      <td>1976.0</td>\n      <td>1.0</td>\n      <td>0</td>\n    </tr>\n    <tr>\n      <th>3</th>\n      <td>77.0</td>\n      <td>0.0</td>\n      <td>5.0</td>\n      <td>4.2</td>\n      <td>4740.0</td>\n      <td>61.0</td>\n      <td>1973.0</td>\n      <td>2.0</td>\n      <td>0</td>\n    </tr>\n    <tr>\n      <th>4</th>\n      <td>67.0</td>\n      <td>0.0</td>\n      <td>8.0</td>\n      <td>4.5</td>\n      <td>1900.0</td>\n      <td>53.0</td>\n      <td>1929.0</td>\n      <td>1.0</td>\n      <td>0</td>\n    </tr>\n    <tr>\n      <th>5</th>\n      <td>76.0</td>\n      <td>0.0</td>\n      <td>6.0</td>\n      <td>6.2</td>\n      <td>3410.0</td>\n      <td>72.0</td>\n      <td>1959.0</td>\n      <td>2.0</td>\n      <td>0</td>\n    </tr>\n    <tr>\n      <th>6</th>\n      <td>63.0</td>\n      <td>0.0</td>\n      <td>7.0</td>\n      <td>4.1</td>\n      <td>3640.0</td>\n      <td>71.0</td>\n      <td>1979.0</td>\n      <td>2.0</td>\n      <td>0</td>\n    </tr>\n    <tr>\n      <th>7</th>\n      <td>75.0</td>\n      <td>0.0</td>\n      <td>5.0</td>\n      <td>5.2</td>\n      <td>2500.0</td>\n      <td>99.0</td>\n      <td>1960.0</td>\n      <td>2.0</td>\n      <td>0</td>\n    </tr>\n    <tr>\n      <th>8</th>\n      <td>70.0</td>\n      <td>0.0</td>\n      <td>6.0</td>\n      <td>4.9</td>\n      <td>2110.0</td>\n      <td>48.0</td>\n      <td>1922.0</td>\n      <td>2.0</td>\n      <td>0</td>\n    </tr>\n    <tr>\n      <th>9</th>\n      <td>82.0</td>\n      <td>0.0</td>\n      <td>5.0</td>\n      <td>5.8</td>\n      <td>2560.0</td>\n      <td>34.0</td>\n      <td>2007.0</td>\n      <td>2.0</td>\n      <td>1</td>\n    </tr>\n  </tbody>\n</table>\n</div>"
     },
     "execution_count": 49,
     "metadata": {},
     "output_type": "execute_result"
    }
   ],
   "execution_count": 49
  },
  {
   "cell_type": "markdown",
   "source": [
    "At this point, the data frame will be split into the explanatory variables (features) and the target variable.\n",
    "\n",
    "After that, the values of the features will be standardized. While this is not strictly necessary for logistic regression, it is a good practice to standardize the features, because it makes the model more robust and easier to interpret.\n",
    "\n",
    "> As the sklearn implementation of the logistic regression is considered, standardization is vital. The algorithm uses so called L2 regularization, which is a technique to prevent overfitting. Regularization works by adding a penalty term to the loss function, which is proportional to the size of the coefficients. If the features are not standardized, the regularization term will penalize the features with larger values more than the features with smaller values. This can lead to biased coefficients and a model that is harder to interpret."
   ],
   "metadata": {
    "collapsed": false
   }
  },
  {
   "metadata": {
    "ExecuteTime": {
     "end_time": "2024-08-30T11:55:49.974411900Z",
     "start_time": "2024-08-30T11:55:49.959595100Z"
    }
   },
   "cell_type": "code",
   "outputs": [
    {
     "data": {
      "text/plain": "     Weight   Smoking  Exercise  Cholesterol    Income  Exphappiness  \\\n0  2.745321  1.866629 -1.621745     1.785293 -1.581660     -1.430214   \n1 -1.202406 -0.535725  1.497996    -0.120768 -0.640621      0.236702   \n2 -0.341084 -0.535725  0.458082    -0.654465  0.309466      0.832029   \n3 -0.125753 -0.535725 -0.061875    -1.111920  1.730073      0.593899   \n4 -0.843522 -0.535725  1.497996    -0.883192 -0.839687      0.117637   \n5 -0.197530 -0.535725  0.458082     0.412929  0.526629      1.248759   \n6 -1.130629 -0.535725  0.978039    -1.188162  0.734743      1.189226   \n7 -0.269307 -0.535725 -0.061875    -0.349495 -0.296780      2.856142   \n8 -0.628191 -0.535725  0.458082    -0.578223 -0.649670     -0.180027   \n9  0.233131 -0.535725 -0.061875     0.107959 -0.242489     -1.013485   \n\n   Birthyear       Sex  \n0  -2.020743 -0.988071  \n1  -0.317710 -0.988071  \n2   0.959564 -0.988071  \n3   0.817645  1.012073  \n4  -1.263839 -0.988071  \n5   0.155354  1.012073  \n6   1.101484  1.012073  \n7   0.202661  1.012073  \n8  -1.594984  1.012073  \n9   2.426064  1.012073  ",
      "text/html": "<div>\n<style scoped>\n    .dataframe tbody tr th:only-of-type {\n        vertical-align: middle;\n    }\n\n    .dataframe tbody tr th {\n        vertical-align: top;\n    }\n\n    .dataframe thead th {\n        text-align: right;\n    }\n</style>\n<table border=\"1\" class=\"dataframe\">\n  <thead>\n    <tr style=\"text-align: right;\">\n      <th></th>\n      <th>Weight</th>\n      <th>Smoking</th>\n      <th>Exercise</th>\n      <th>Cholesterol</th>\n      <th>Income</th>\n      <th>Exphappiness</th>\n      <th>Birthyear</th>\n      <th>Sex</th>\n    </tr>\n  </thead>\n  <tbody>\n    <tr>\n      <th>0</th>\n      <td>2.745321</td>\n      <td>1.866629</td>\n      <td>-1.621745</td>\n      <td>1.785293</td>\n      <td>-1.581660</td>\n      <td>-1.430214</td>\n      <td>-2.020743</td>\n      <td>-0.988071</td>\n    </tr>\n    <tr>\n      <th>1</th>\n      <td>-1.202406</td>\n      <td>-0.535725</td>\n      <td>1.497996</td>\n      <td>-0.120768</td>\n      <td>-0.640621</td>\n      <td>0.236702</td>\n      <td>-0.317710</td>\n      <td>-0.988071</td>\n    </tr>\n    <tr>\n      <th>2</th>\n      <td>-0.341084</td>\n      <td>-0.535725</td>\n      <td>0.458082</td>\n      <td>-0.654465</td>\n      <td>0.309466</td>\n      <td>0.832029</td>\n      <td>0.959564</td>\n      <td>-0.988071</td>\n    </tr>\n    <tr>\n      <th>3</th>\n      <td>-0.125753</td>\n      <td>-0.535725</td>\n      <td>-0.061875</td>\n      <td>-1.111920</td>\n      <td>1.730073</td>\n      <td>0.593899</td>\n      <td>0.817645</td>\n      <td>1.012073</td>\n    </tr>\n    <tr>\n      <th>4</th>\n      <td>-0.843522</td>\n      <td>-0.535725</td>\n      <td>1.497996</td>\n      <td>-0.883192</td>\n      <td>-0.839687</td>\n      <td>0.117637</td>\n      <td>-1.263839</td>\n      <td>-0.988071</td>\n    </tr>\n    <tr>\n      <th>5</th>\n      <td>-0.197530</td>\n      <td>-0.535725</td>\n      <td>0.458082</td>\n      <td>0.412929</td>\n      <td>0.526629</td>\n      <td>1.248759</td>\n      <td>0.155354</td>\n      <td>1.012073</td>\n    </tr>\n    <tr>\n      <th>6</th>\n      <td>-1.130629</td>\n      <td>-0.535725</td>\n      <td>0.978039</td>\n      <td>-1.188162</td>\n      <td>0.734743</td>\n      <td>1.189226</td>\n      <td>1.101484</td>\n      <td>1.012073</td>\n    </tr>\n    <tr>\n      <th>7</th>\n      <td>-0.269307</td>\n      <td>-0.535725</td>\n      <td>-0.061875</td>\n      <td>-0.349495</td>\n      <td>-0.296780</td>\n      <td>2.856142</td>\n      <td>0.202661</td>\n      <td>1.012073</td>\n    </tr>\n    <tr>\n      <th>8</th>\n      <td>-0.628191</td>\n      <td>-0.535725</td>\n      <td>0.458082</td>\n      <td>-0.578223</td>\n      <td>-0.649670</td>\n      <td>-0.180027</td>\n      <td>-1.594984</td>\n      <td>1.012073</td>\n    </tr>\n    <tr>\n      <th>9</th>\n      <td>0.233131</td>\n      <td>-0.535725</td>\n      <td>-0.061875</td>\n      <td>0.107959</td>\n      <td>-0.242489</td>\n      <td>-1.013485</td>\n      <td>2.426064</td>\n      <td>1.012073</td>\n    </tr>\n  </tbody>\n</table>\n</div>"
     },
     "execution_count": 50,
     "metadata": {},
     "output_type": "execute_result"
    }
   ],
   "execution_count": 50,
   "source": [
    "X, y = df.iloc[:,:8], df.iloc[:,8]\n",
    "\n",
    "# standardize features\n",
    "scaler = StandardScaler()\n",
    "X = pd.DataFrame(scaler.fit_transform(X), columns=X.columns)\n",
    "X.head(10)"
   ]
  },
  {
   "cell_type": "code",
   "execution_count": 51,
   "outputs": [
    {
     "name": "stdout",
     "output_type": "stream",
     "text": [
      "Coefficients:  [[ 1.00440714  0.16707594 -0.49086543  0.30697732 -0.04086465 -0.01986069\n",
      "   0.15470113 -0.04488196]]\n",
      "Intercept:  [-0.57794563]\n"
     ]
    }
   ],
   "source": [
    "# build and fit model\n",
    "reg = LogisticRegression(solver='lbfgs')\n",
    "reg.fit(X,y)\n",
    "\n",
    "print(\"Coefficients: \",reg.coef_)\n",
    "print(\"Intercept: \", reg.intercept_)\n"
   ],
   "metadata": {
    "collapsed": false,
    "ExecuteTime": {
     "end_time": "2024-08-30T11:55:50.089678Z",
     "start_time": "2024-08-30T11:55:49.974411900Z"
    }
   }
  },
  {
   "cell_type": "markdown",
   "source": [
    "Using mathematical notation, the logistic regression model for estimating the probability of a stroke is:\n",
    "\n",
    "$$\n",
    "\\hat{y} = 1.0044 \\cdot Weight + 0.1671 \\cdot Smoking - 0.4909 \\cdot Exercise + 0.3070 \\cdot Cholesterol - 0.0409 \\cdot Income - 0.0199 \\cdot Exphappiness + 0.1547 \\cdot Birthyear - 0.0449 \\cdot Sex - 0.5779\n",
    "$$\n",
    "\n",
    "In the formula, values $x_1$ to $x_8$ are the standardized values of the input features. The model predicts the target variable value which can be transformed to the probability of a stroke using the logistic function. When used as a binary classifier, the decision boundary is at 0.5, meaning that if the probability is greater than 0.5, the model predicts that the patient will have a stroke. Otherwise, the model predicts that the patient will not have a stroke.\n",
    "\n",
    "For evaluation of the model, let's carry out a 10-fold cross-validation and print the confusion matrix.\n",
    "\n"
   ],
   "metadata": {
    "collapsed": false
   }
  },
  {
   "cell_type": "code",
   "execution_count": 52,
   "outputs": [
    {
     "name": "stdout",
     "output_type": "stream",
     "text": [
      "Accuracy: 0.76\n",
      "Confusion Matrix:\n",
      " [[512  88]\n",
      " [148 252]]\n"
     ]
    },
    {
     "data": {
      "text/plain": "<Figure size 480x480 with 2 Axes>",
      "image/png": "[encoded data removed]"
     },
     "metadata": {},
     "output_type": "display_data"
    }
   ],
   "source": [
    "# cross-validation\n",
    "from sklearn.model_selection import cross_val_predict\n",
    "from sklearn.metrics import accuracy_score\n",
    "\n",
    "y_pred = cross_val_predict(estimator=reg, X=X, y=y, cv=10)\n",
    "\n",
    "cm = confusion_matrix(y, y_pred)\n",
    "accuracy = accuracy_score(y, y_pred)\n",
    "\n",
    "print(\"Accuracy: %0.2f\" % accuracy)\n",
    "print(\"Confusion Matrix:\\n\", cm)\n",
    "\n",
    "# visualize confusion matrix\n",
    "plt.matshow(cm)\n",
    "plt.title('Confusion matrix')\n",
    "plt.colorbar()\n",
    "plt.ylabel('True label')\n",
    "plt.xlabel('Predicted label')\n",
    "# include counts\n",
    "for i in range(2):\n",
    "    for j in range(2):\n",
    "        plt.text(j, i, cm[i, j], ha='center', va='center', color='red')\n",
    "plt.show()\n",
    "\n"
   ],
   "metadata": {
    "collapsed": false,
    "ExecuteTime": {
     "end_time": "2024-08-30T11:55:50.207405100Z",
     "start_time": "2024-08-30T11:55:50.007350Z"
    }
   }
  },
  {
   "cell_type": "markdown",
   "source": [
    "The model seems to predict the outcome quite well, with an accuracy of 0.76. Contransting this to the performance of a random classifier, which would have an accuracy of 0.5, the model seems to be doing a decent job.\n",
    "\n",
    "## Getting probability estimates\n",
    "\n",
    "Let's say we want to predict the probability of a patient having a stroke, after they have provided the information of their current status. The following interactive Python code allows you to input the values of the features, and get the probability of a stroke.\n"
   ],
   "metadata": {
    "collapsed": false
   }
  },
  {
   "cell_type": "code",
   "execution_count": 58,
   "outputs": [
    {
     "name": "stdout",
     "output_type": "stream",
     "text": [
      "Probability of stroke: 0.81\n"
     ]
    }
   ],
   "source": [
    "# interactive prediction\n",
    "\n",
    "features=['Weight', 'Smoking', 'Exercise', 'Cholesterol', 'Income', 'Exphappiness', 'Birthyear', 'Sex']\n",
    "\n",
    "Xi = pd.DataFrame(columns=features)\n",
    "\n",
    "# read input data\n",
    "for f in features:\n",
    "    val = input(f\"Enter value for feature: {f}\")\n",
    "    Xi[f] = [float(val)]\n",
    "\n",
    "# get probability estimate\n",
    "Xi = pd.DataFrame(scaler.transform(Xi), columns=Xi.columns)\n",
    "p = reg.predict_proba(Xi)[:,1]\n",
    "\n",
    "# output\n",
    "print(\"Probability of stroke: %0.2f\" % p[0])\n"
   ],
   "metadata": {
    "collapsed": false,
    "ExecuteTime": {
     "end_time": "2024-08-30T12:06:36.047138100Z",
     "start_time": "2024-08-30T12:06:14.714249300Z"
    }
   }
  },
  {
   "cell_type": "markdown",
   "source": [
    "## Estimating feature importance with permutation importance\n",
    "\n",
    "In linear regression, feature importance could easily be deduced from the coefficients of the model, provided that the features are standardized. In logistic regression, the coefficients are not directly interpretable as feature importance, because the coefficients are transformed by the logistic function.\n",
    "\n",
    "However, sklearn provides a mechanism called permutation importance, which can be used to estimate the importance of features. The idea is to shuffle the values of a feature, and then measure how much the model's performance decreases. The more the performance decreases, the more important the feature is. Let's compute the permutation importance of the features for the stroke prediction model.\n"
   ],
   "metadata": {
    "collapsed": false
   }
  },
  {
   "cell_type": "code",
   "execution_count": 61,
   "outputs": [
    {
     "data": {
      "text/plain": "<Figure size 640x480 with 1 Axes>",
      "image/png": "[encoded data removed]"
     },
     "metadata": {},
     "output_type": "display_data"
    }
   ],
   "source": [
    "# feature importance\n",
    "from sklearn.inspection import permutation_importance\n",
    "\n",
    "result = permutation_importance(reg, X, y, n_repeats=10, scoring=\"accuracy\", random_state=0, n_jobs=-1)\n",
    "sorted_idx = result.importances_mean.argsort()\n",
    "\n",
    "fig, ax = plt.subplots()\n",
    "ax.boxplot(result.importances[sorted_idx].T, vert=False, tick_labels=X.columns[sorted_idx])\n",
    "ax.set_title(\"Permutation Importance\")\n",
    "fig.tight_layout()\n",
    "plt.show()\n"
   ],
   "metadata": {
    "collapsed": false,
    "ExecuteTime": {
     "end_time": "2024-08-30T12:16:30.991537500Z",
     "start_time": "2024-08-30T12:16:24.596070900Z"
    }
   }
  },
  {
   "cell_type": "markdown",
   "source": [
    "The plot shows the importance of each feature in the model. The higher the value, the more important the feature is. The most important feature is `Weight`, followed by `Exercise` and `Cholsterol`. The least important feature is `Sex`.\n",
    "\n",
    "Let's look in detail at how the permutation importances were computed. The idea is to repeatedly shuffle the values of a feature, and then measure how much the model's performance decreases. As the values are shuffled, the feature is expected to have only a small impact on the response variable, and even that small impact is caused by random noise. As a consequence, when we shuffle a meaningless feature, the model's performance should not decrease much. On the other hand, if the feature is of high importance, the model's performance should decrease significantly.\n",
    "\n",
    "### Phases of permutation importance evaluation\n",
    "\n",
    "1. **Model Baseline Performance**:\n",
    "   - First, evaluate the model’s performance on the original dataset. This establishes the baseline performance metric (e.g., accuracy).\n",
    "\n",
    "2. **Iterate Over Each Feature**:\n",
    "   - For each feature (column) in the dataset, perform the permutation process. This means handling one feature at a time.\n",
    "\n",
    "3. **Permute the Feature Values**:\n",
    "   - Select one feature to permute. Shuffle the values of this feature randomly, while keeping the values of other features unchanged. For example, if the original feature values are:\n",
    "     ```\n",
    "     | Feature1 | Feature2 |\n",
    "     |----------|----------|\n",
    "     |    1     |    5     |\n",
    "     |    2     |    6     |\n",
    "     |    3     |    7     |\n",
    "     ```\n",
    "     After permuting `Feature1`, it might look like this:\n",
    "     ```\n",
    "     | Feature1 | Feature2 |\n",
    "     |----------|----------|\n",
    "     |    2     |    5     |\n",
    "     |    1     |    6     |\n",
    "     |    3     |    7     |\n",
    "     ```\n",
    "\n",
    "4. **Evaluate the Model with Permuted Data**:\n",
    "   - Train or evaluate the model using the permuted dataset. This will give you a performance metric based on how well the model performs with the shuffled values.\n",
    "\n",
    "5. **Repeat Permutation**:\n",
    "   - Repeat the permutation process multiple times (`n_repeats`), each time shuffling the feature values and evaluating the model’s performance. This produces a distribution of performance metrics for each feature.\n",
    "\n",
    "6. **Calculate Average Performance Drop**:\n",
    "   - Compute the average performance drop across all permutation iterations for each feature. This average represents the mean decrease in model performance when the feature’s values are permuted.\n",
    "\n",
    "7. **Compare Features**:\n",
    "   - Compare the average performance drop for each feature. Features that cause a significant drop in performance when permuted are considered more important. A larger performance drop indicates that the feature is crucial for the model’s predictions.\n"
   ],
   "metadata": {
    "collapsed": false
   }
  },
  {
   "cell_type": "markdown",
   "source": [
    "## Multiclass classification with logistic regression\n",
    "\n",
    "Logistic regression is by nature a binary classifier, meaning that it can only predict binary outcomes. However, it can be extended to handle multi-class classification by using a technique called one-vs-rest (OvR) or one-vs-all (OvA) classification. The idea is to train a separate binary classifier for each class, and then combine the results to make a multi-class prediction.\n",
    "\n",
    "The sklearn implementation of logistic regression can handle multi-class classification out of the box. If the target variable has more than two classes, the algorithm will automatically switch to the multi-class mode (by default OvR):\n",
    "- A binary classifier is built for each value of the categorical response variable.\n",
    "- For each binary classifier, all remaining values of the response variable are lumped together.\n",
    "- Finally, for each observation, the classifier that provides a classification with a highest confidence score, outputs the final class.\n",
    "\n",
    "The following image shows the idea of one-vs-rest classification:"
   ],
   "metadata": {
    "collapsed": false
   }
  },
  {
   "cell_type": "code",
   "execution_count": 63,
   "outputs": [
    {
     "data": {
      "image/png": "[encoded data removed]",
      "text/plain": "<IPython.core.display.Image object>"
     },
     "metadata": {},
     "output_type": "display_data"
    }
   ],
   "source": [
    "from IPython.display import Image,display;display(Image(filename=\"img/ovr.png\"))"
   ],
   "metadata": {
    "collapsed": false,
    "ExecuteTime": {
     "end_time": "2024-08-30T12:52:05.963947600Z",
     "start_time": "2024-08-30T12:52:05.930665600Z"
    }
   }
  }
 ],
 "metadata": {
  "kernelspec": {
   "display_name": "Python 3",
   "language": "python",
   "name": "python3"
  },
  "language_info": {
   "codemirror_mode": {
    "name": "ipython",
    "version": 2
   },
   "file_extension": ".py",
   "mimetype": "text/x-python",
   "name": "python",
   "nbconvert_exporter": "python",
   "pygments_lexer": "ipython2",
   "version": "2.7.6"
  }
 },
 "nbformat": 4,
 "nbformat_minor": 0
}
