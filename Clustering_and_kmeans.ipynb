{
 "cells": [
  {
   "metadata": {},
   "cell_type": "markdown",
   "source": [
    "# 9. Clustering and k-means algorithm\n",
    "\n",
    "## Simple clustering example\n",
    "\n",
    "So far we have been looking only at supervised learning problems, where the training data consists of previously labeled samples. For these samples, the correct value of the target variable is known from the start. However, it is also possible to do meaningful machine learning even when pre-labelled samples are not available. A very common example of such **unsupervised learning** is that of **clustering**: in clustering problems, there exists a training set containing samples with a number of variables, but no particular \"target variable\" to make predictions about. Instead, we ask the following question: is it possible to divide the samples in subgroups in such a way that the samples in one of them are \"closely related\" to each other, but \"distant\" from those in other subgroups? Such questions arise very naturally *e.g.* in the fields of market segmentation or targeted advertising. \n",
    "\n",
    "As a simple example, let us use once more the familiar iris dataset: "
   ],
   "id": "14e0d537d6cc2ea9"
  },
  {
   "metadata": {
    "ExecuteTime": {
     "end_time": "2024-09-18T10:52:05.749484Z",
     "start_time": "2024-09-18T10:52:05.729363Z"
    }
   },
   "cell_type": "code",
   "source": [
    "from sklearn.datasets import load_iris\n",
    "\n",
    "X, y = load_iris(return_X_y=True)"
   ],
   "id": "bb31ff040effb2da",
   "outputs": [],
   "execution_count": 3
  },
  {
   "metadata": {},
   "cell_type": "markdown",
   "source": [
    "However, this time we shall ignore the target values, and focus our attention to the values of the four numerical variables for each sample (contained in the array `X`). Let us also assume that we expect there to be three distinct species of flowers in the dataset, and we would like to identify them out automatically. That is, we ask whether the samples in the dataset naturally fall into three subgroups according to their variable values. This is an example of a clustering problem.\n",
    "\n",
    "One of the most commonly used algorithm for finding the desired subdivision is the **k-means algorithm**. Implementing k-means clustering in Scikit-learn is straightforward: essentially, only the desired number of clusters k (the parameter `n_clusters` below) needs to be specified.   "
   ],
   "id": "b6a21bcabe5492c5"
  },
  {
   "metadata": {
    "ExecuteTime": {
     "end_time": "2024-09-18T10:53:14.498730Z",
     "start_time": "2024-09-18T10:53:05.250027Z"
    }
   },
   "cell_type": "code",
   "source": [
    "from sklearn.cluster import KMeans\n",
    "\n",
    "model = KMeans(init='random', n_clusters=3, random_state=42)\n",
    "model.fit(X)"
   ],
   "id": "dcb95deeed2c4baa",
   "outputs": [
    {
     "data": {
      "text/plain": [
       "KMeans(init='random', n_clusters=3, random_state=42)"
      ],
      "text/html": [
       "<style>#sk-container-id-1 {\n",
       "  /* Definition of color scheme common for light and dark mode */\n",
       "  --sklearn-color-text: black;\n",
       "  --sklearn-color-line: gray;\n",
       "  /* Definition of color scheme for unfitted estimators */\n",
       "  --sklearn-color-unfitted-level-0: #fff5e6;\n",
       "  --sklearn-color-unfitted-level-1: #f6e4d2;\n",
       "  --sklearn-color-unfitted-level-2: #ffe0b3;\n",
       "  --sklearn-color-unfitted-level-3: chocolate;\n",
       "  /* Definition of color scheme for fitted estimators */\n",
       "  --sklearn-color-fitted-level-0: #f0f8ff;\n",
       "  --sklearn-color-fitted-level-1: #d4ebff;\n",
       "  --sklearn-color-fitted-level-2: #b3dbfd;\n",
       "  --sklearn-color-fitted-level-3: cornflowerblue;\n",
       "\n",
       "  /* Specific color for light theme */\n",
       "  --sklearn-color-text-on-default-background: var(--sg-text-color, var(--theme-code-foreground, var(--jp-content-font-color1, black)));\n",
       "  --sklearn-color-background: var(--sg-background-color, var(--theme-background, var(--jp-layout-color0, white)));\n",
       "  --sklearn-color-border-box: var(--sg-text-color, var(--theme-code-foreground, var(--jp-content-font-color1, black)));\n",
       "  --sklearn-color-icon: #696969;\n",
       "\n",
       "  @media (prefers-color-scheme: dark) {\n",
       "    /* Redefinition of color scheme for dark theme */\n",
       "    --sklearn-color-text-on-default-background: var(--sg-text-color, var(--theme-code-foreground, var(--jp-content-font-color1, white)));\n",
       "    --sklearn-color-background: var(--sg-background-color, var(--theme-background, var(--jp-layout-color0, #111)));\n",
       "    --sklearn-color-border-box: var(--sg-text-color, var(--theme-code-foreground, var(--jp-content-font-color1, white)));\n",
       "    --sklearn-color-icon: #878787;\n",
       "  }\n",
       "}\n",
       "\n",
       "#sk-container-id-1 {\n",
       "  color: var(--sklearn-color-text);\n",
       "}\n",
       "\n",
       "#sk-container-id-1 pre {\n",
       "  padding: 0;\n",
       "}\n",
       "\n",
       "#sk-container-id-1 input.sk-hidden--visually {\n",
       "  border: 0;\n",
       "  clip: rect(1px 1px 1px 1px);\n",
       "  clip: rect(1px, 1px, 1px, 1px);\n",
       "  height: 1px;\n",
       "  margin: -1px;\n",
       "  overflow: hidden;\n",
       "  padding: 0;\n",
       "  position: absolute;\n",
       "  width: 1px;\n",
       "}\n",
       "\n",
       "#sk-container-id-1 div.sk-dashed-wrapped {\n",
       "  border: 1px dashed var(--sklearn-color-line);\n",
       "  margin: 0 0.4em 0.5em 0.4em;\n",
       "  box-sizing: border-box;\n",
       "  padding-bottom: 0.4em;\n",
       "  background-color: var(--sklearn-color-background);\n",
       "}\n",
       "\n",
       "#sk-container-id-1 div.sk-container {\n",
       "  /* jupyter's `normalize.less` sets `[hidden] { display: none; }`\n",
       "     but bootstrap.min.css set `[hidden] { display: none !important; }`\n",
       "     so we also need the `!important` here to be able to override the\n",
       "     default hidden behavior on the sphinx rendered scikit-learn.org.\n",
       "     See: https://github.com/scikit-learn/scikit-learn/issues/21755 */\n",
       "  display: inline-block !important;\n",
       "  position: relative;\n",
       "}\n",
       "\n",
       "#sk-container-id-1 div.sk-text-repr-fallback {\n",
       "  display: none;\n",
       "}\n",
       "\n",
       "div.sk-parallel-item,\n",
       "div.sk-serial,\n",
       "div.sk-item {\n",
       "  /* draw centered vertical line to link estimators */\n",
       "  background-image: linear-gradient(var(--sklearn-color-text-on-default-background), var(--sklearn-color-text-on-default-background));\n",
       "  background-size: 2px 100%;\n",
       "  background-repeat: no-repeat;\n",
       "  background-position: center center;\n",
       "}\n",
       "\n",
       "/* Parallel-specific style estimator block */\n",
       "\n",
       "#sk-container-id-1 div.sk-parallel-item::after {\n",
       "  content: \"\";\n",
       "  width: 100%;\n",
       "  border-bottom: 2px solid var(--sklearn-color-text-on-default-background);\n",
       "  flex-grow: 1;\n",
       "}\n",
       "\n",
       "#sk-container-id-1 div.sk-parallel {\n",
       "  display: flex;\n",
       "  align-items: stretch;\n",
       "  justify-content: center;\n",
       "  background-color: var(--sklearn-color-background);\n",
       "  position: relative;\n",
       "}\n",
       "\n",
       "#sk-container-id-1 div.sk-parallel-item {\n",
       "  display: flex;\n",
       "  flex-direction: column;\n",
       "}\n",
       "\n",
       "#sk-container-id-1 div.sk-parallel-item:first-child::after {\n",
       "  align-self: flex-end;\n",
       "  width: 50%;\n",
       "}\n",
       "\n",
       "#sk-container-id-1 div.sk-parallel-item:last-child::after {\n",
       "  align-self: flex-start;\n",
       "  width: 50%;\n",
       "}\n",
       "\n",
       "#sk-container-id-1 div.sk-parallel-item:only-child::after {\n",
       "  width: 0;\n",
       "}\n",
       "\n",
       "/* Serial-specific style estimator block */\n",
       "\n",
       "#sk-container-id-1 div.sk-serial {\n",
       "  display: flex;\n",
       "  flex-direction: column;\n",
       "  align-items: center;\n",
       "  background-color: var(--sklearn-color-background);\n",
       "  padding-right: 1em;\n",
       "  padding-left: 1em;\n",
       "}\n",
       "\n",
       "\n",
       "/* Toggleable style: style used for estimator/Pipeline/ColumnTransformer box that is\n",
       "clickable and can be expanded/collapsed.\n",
       "- Pipeline and ColumnTransformer use this feature and define the default style\n",
       "- Estimators will overwrite some part of the style using the `sk-estimator` class\n",
       "*/\n",
       "\n",
       "/* Pipeline and ColumnTransformer style (default) */\n",
       "\n",
       "#sk-container-id-1 div.sk-toggleable {\n",
       "  /* Default theme specific background. It is overwritten whether we have a\n",
       "  specific estimator or a Pipeline/ColumnTransformer */\n",
       "  background-color: var(--sklearn-color-background);\n",
       "}\n",
       "\n",
       "/* Toggleable label */\n",
       "#sk-container-id-1 label.sk-toggleable__label {\n",
       "  cursor: pointer;\n",
       "  display: block;\n",
       "  width: 100%;\n",
       "  margin-bottom: 0;\n",
       "  padding: 0.5em;\n",
       "  box-sizing: border-box;\n",
       "  text-align: center;\n",
       "}\n",
       "\n",
       "#sk-container-id-1 label.sk-toggleable__label-arrow:before {\n",
       "  /* Arrow on the left of the label */\n",
       "  content: \"▸\";\n",
       "  float: left;\n",
       "  margin-right: 0.25em;\n",
       "  color: var(--sklearn-color-icon);\n",
       "}\n",
       "\n",
       "#sk-container-id-1 label.sk-toggleable__label-arrow:hover:before {\n",
       "  color: var(--sklearn-color-text);\n",
       "}\n",
       "\n",
       "/* Toggleable content - dropdown */\n",
       "\n",
       "#sk-container-id-1 div.sk-toggleable__content {\n",
       "  max-height: 0;\n",
       "  max-width: 0;\n",
       "  overflow: hidden;\n",
       "  text-align: left;\n",
       "  /* unfitted */\n",
       "  background-color: var(--sklearn-color-unfitted-level-0);\n",
       "}\n",
       "\n",
       "#sk-container-id-1 div.sk-toggleable__content.fitted {\n",
       "  /* fitted */\n",
       "  background-color: var(--sklearn-color-fitted-level-0);\n",
       "}\n",
       "\n",
       "#sk-container-id-1 div.sk-toggleable__content pre {\n",
       "  margin: 0.2em;\n",
       "  border-radius: 0.25em;\n",
       "  color: var(--sklearn-color-text);\n",
       "  /* unfitted */\n",
       "  background-color: var(--sklearn-color-unfitted-level-0);\n",
       "}\n",
       "\n",
       "#sk-container-id-1 div.sk-toggleable__content.fitted pre {\n",
       "  /* unfitted */\n",
       "  background-color: var(--sklearn-color-fitted-level-0);\n",
       "}\n",
       "\n",
       "#sk-container-id-1 input.sk-toggleable__control:checked~div.sk-toggleable__content {\n",
       "  /* Expand drop-down */\n",
       "  max-height: 200px;\n",
       "  max-width: 100%;\n",
       "  overflow: auto;\n",
       "}\n",
       "\n",
       "#sk-container-id-1 input.sk-toggleable__control:checked~label.sk-toggleable__label-arrow:before {\n",
       "  content: \"▾\";\n",
       "}\n",
       "\n",
       "/* Pipeline/ColumnTransformer-specific style */\n",
       "\n",
       "#sk-container-id-1 div.sk-label input.sk-toggleable__control:checked~label.sk-toggleable__label {\n",
       "  color: var(--sklearn-color-text);\n",
       "  background-color: var(--sklearn-color-unfitted-level-2);\n",
       "}\n",
       "\n",
       "#sk-container-id-1 div.sk-label.fitted input.sk-toggleable__control:checked~label.sk-toggleable__label {\n",
       "  background-color: var(--sklearn-color-fitted-level-2);\n",
       "}\n",
       "\n",
       "/* Estimator-specific style */\n",
       "\n",
       "/* Colorize estimator box */\n",
       "#sk-container-id-1 div.sk-estimator input.sk-toggleable__control:checked~label.sk-toggleable__label {\n",
       "  /* unfitted */\n",
       "  background-color: var(--sklearn-color-unfitted-level-2);\n",
       "}\n",
       "\n",
       "#sk-container-id-1 div.sk-estimator.fitted input.sk-toggleable__control:checked~label.sk-toggleable__label {\n",
       "  /* fitted */\n",
       "  background-color: var(--sklearn-color-fitted-level-2);\n",
       "}\n",
       "\n",
       "#sk-container-id-1 div.sk-label label.sk-toggleable__label,\n",
       "#sk-container-id-1 div.sk-label label {\n",
       "  /* The background is the default theme color */\n",
       "  color: var(--sklearn-color-text-on-default-background);\n",
       "}\n",
       "\n",
       "/* On hover, darken the color of the background */\n",
       "#sk-container-id-1 div.sk-label:hover label.sk-toggleable__label {\n",
       "  color: var(--sklearn-color-text);\n",
       "  background-color: var(--sklearn-color-unfitted-level-2);\n",
       "}\n",
       "\n",
       "/* Label box, darken color on hover, fitted */\n",
       "#sk-container-id-1 div.sk-label.fitted:hover label.sk-toggleable__label.fitted {\n",
       "  color: var(--sklearn-color-text);\n",
       "  background-color: var(--sklearn-color-fitted-level-2);\n",
       "}\n",
       "\n",
       "/* Estimator label */\n",
       "\n",
       "#sk-container-id-1 div.sk-label label {\n",
       "  font-family: monospace;\n",
       "  font-weight: bold;\n",
       "  display: inline-block;\n",
       "  line-height: 1.2em;\n",
       "}\n",
       "\n",
       "#sk-container-id-1 div.sk-label-container {\n",
       "  text-align: center;\n",
       "}\n",
       "\n",
       "/* Estimator-specific */\n",
       "#sk-container-id-1 div.sk-estimator {\n",
       "  font-family: monospace;\n",
       "  border: 1px dotted var(--sklearn-color-border-box);\n",
       "  border-radius: 0.25em;\n",
       "  box-sizing: border-box;\n",
       "  margin-bottom: 0.5em;\n",
       "  /* unfitted */\n",
       "  background-color: var(--sklearn-color-unfitted-level-0);\n",
       "}\n",
       "\n",
       "#sk-container-id-1 div.sk-estimator.fitted {\n",
       "  /* fitted */\n",
       "  background-color: var(--sklearn-color-fitted-level-0);\n",
       "}\n",
       "\n",
       "/* on hover */\n",
       "#sk-container-id-1 div.sk-estimator:hover {\n",
       "  /* unfitted */\n",
       "  background-color: var(--sklearn-color-unfitted-level-2);\n",
       "}\n",
       "\n",
       "#sk-container-id-1 div.sk-estimator.fitted:hover {\n",
       "  /* fitted */\n",
       "  background-color: var(--sklearn-color-fitted-level-2);\n",
       "}\n",
       "\n",
       "/* Specification for estimator info (e.g. \"i\" and \"?\") */\n",
       "\n",
       "/* Common style for \"i\" and \"?\" */\n",
       "\n",
       ".sk-estimator-doc-link,\n",
       "a:link.sk-estimator-doc-link,\n",
       "a:visited.sk-estimator-doc-link {\n",
       "  float: right;\n",
       "  font-size: smaller;\n",
       "  line-height: 1em;\n",
       "  font-family: monospace;\n",
       "  background-color: var(--sklearn-color-background);\n",
       "  border-radius: 1em;\n",
       "  height: 1em;\n",
       "  width: 1em;\n",
       "  text-decoration: none !important;\n",
       "  margin-left: 1ex;\n",
       "  /* unfitted */\n",
       "  border: var(--sklearn-color-unfitted-level-1) 1pt solid;\n",
       "  color: var(--sklearn-color-unfitted-level-1);\n",
       "}\n",
       "\n",
       ".sk-estimator-doc-link.fitted,\n",
       "a:link.sk-estimator-doc-link.fitted,\n",
       "a:visited.sk-estimator-doc-link.fitted {\n",
       "  /* fitted */\n",
       "  border: var(--sklearn-color-fitted-level-1) 1pt solid;\n",
       "  color: var(--sklearn-color-fitted-level-1);\n",
       "}\n",
       "\n",
       "/* On hover */\n",
       "div.sk-estimator:hover .sk-estimator-doc-link:hover,\n",
       ".sk-estimator-doc-link:hover,\n",
       "div.sk-label-container:hover .sk-estimator-doc-link:hover,\n",
       ".sk-estimator-doc-link:hover {\n",
       "  /* unfitted */\n",
       "  background-color: var(--sklearn-color-unfitted-level-3);\n",
       "  color: var(--sklearn-color-background);\n",
       "  text-decoration: none;\n",
       "}\n",
       "\n",
       "div.sk-estimator.fitted:hover .sk-estimator-doc-link.fitted:hover,\n",
       ".sk-estimator-doc-link.fitted:hover,\n",
       "div.sk-label-container:hover .sk-estimator-doc-link.fitted:hover,\n",
       ".sk-estimator-doc-link.fitted:hover {\n",
       "  /* fitted */\n",
       "  background-color: var(--sklearn-color-fitted-level-3);\n",
       "  color: var(--sklearn-color-background);\n",
       "  text-decoration: none;\n",
       "}\n",
       "\n",
       "/* Span, style for the box shown on hovering the info icon */\n",
       ".sk-estimator-doc-link span {\n",
       "  display: none;\n",
       "  z-index: 9999;\n",
       "  position: relative;\n",
       "  font-weight: normal;\n",
       "  right: .2ex;\n",
       "  padding: .5ex;\n",
       "  margin: .5ex;\n",
       "  width: min-content;\n",
       "  min-width: 20ex;\n",
       "  max-width: 50ex;\n",
       "  color: var(--sklearn-color-text);\n",
       "  box-shadow: 2pt 2pt 4pt #999;\n",
       "  /* unfitted */\n",
       "  background: var(--sklearn-color-unfitted-level-0);\n",
       "  border: .5pt solid var(--sklearn-color-unfitted-level-3);\n",
       "}\n",
       "\n",
       ".sk-estimator-doc-link.fitted span {\n",
       "  /* fitted */\n",
       "  background: var(--sklearn-color-fitted-level-0);\n",
       "  border: var(--sklearn-color-fitted-level-3);\n",
       "}\n",
       "\n",
       ".sk-estimator-doc-link:hover span {\n",
       "  display: block;\n",
       "}\n",
       "\n",
       "/* \"?\"-specific style due to the `<a>` HTML tag */\n",
       "\n",
       "#sk-container-id-1 a.estimator_doc_link {\n",
       "  float: right;\n",
       "  font-size: 1rem;\n",
       "  line-height: 1em;\n",
       "  font-family: monospace;\n",
       "  background-color: var(--sklearn-color-background);\n",
       "  border-radius: 1rem;\n",
       "  height: 1rem;\n",
       "  width: 1rem;\n",
       "  text-decoration: none;\n",
       "  /* unfitted */\n",
       "  color: var(--sklearn-color-unfitted-level-1);\n",
       "  border: var(--sklearn-color-unfitted-level-1) 1pt solid;\n",
       "}\n",
       "\n",
       "#sk-container-id-1 a.estimator_doc_link.fitted {\n",
       "  /* fitted */\n",
       "  border: var(--sklearn-color-fitted-level-1) 1pt solid;\n",
       "  color: var(--sklearn-color-fitted-level-1);\n",
       "}\n",
       "\n",
       "/* On hover */\n",
       "#sk-container-id-1 a.estimator_doc_link:hover {\n",
       "  /* unfitted */\n",
       "  background-color: var(--sklearn-color-unfitted-level-3);\n",
       "  color: var(--sklearn-color-background);\n",
       "  text-decoration: none;\n",
       "}\n",
       "\n",
       "#sk-container-id-1 a.estimator_doc_link.fitted:hover {\n",
       "  /* fitted */\n",
       "  background-color: var(--sklearn-color-fitted-level-3);\n",
       "}\n",
       "</style><div id=\"sk-container-id-1\" class=\"sk-top-container\"><div class=\"sk-text-repr-fallback\"><pre>KMeans(init=&#x27;random&#x27;, n_clusters=3, random_state=42)</pre><b>In a Jupyter environment, please rerun this cell to show the HTML representation or trust the notebook. <br />On GitHub, the HTML representation is unable to render, please try loading this page with nbviewer.org.</b></div><div class=\"sk-container\" hidden><div class=\"sk-item\"><div class=\"sk-estimator fitted sk-toggleable\"><input class=\"sk-toggleable__control sk-hidden--visually\" id=\"sk-estimator-id-1\" type=\"checkbox\" checked><label for=\"sk-estimator-id-1\" class=\"sk-toggleable__label fitted sk-toggleable__label-arrow fitted\">&nbsp;&nbsp;KMeans<a class=\"sk-estimator-doc-link fitted\" rel=\"noreferrer\" target=\"_blank\" href=\"https://scikit-learn.org/1.4/modules/generated/sklearn.cluster.KMeans.html\">?<span>Documentation for KMeans</span></a><span class=\"sk-estimator-doc-link fitted\">i<span>Fitted</span></span></label><div class=\"sk-toggleable__content fitted\"><pre>KMeans(init=&#x27;random&#x27;, n_clusters=3, random_state=42)</pre></div> </div></div></div></div>"
      ]
     },
     "execution_count": 4,
     "metadata": {},
     "output_type": "execute_result"
    }
   ],
   "execution_count": 4
  },
  {
   "metadata": {},
   "cell_type": "markdown",
   "source": "After the model has been trained, we can find the cluster labels of the training samples as follows:",
   "id": "a00013283fe4c0a6"
  },
  {
   "metadata": {
    "ExecuteTime": {
     "end_time": "2024-09-18T10:53:19.966534Z",
     "start_time": "2024-09-18T10:53:19.960334Z"
    }
   },
   "cell_type": "code",
   "source": [
    "labels = model.labels_\n",
    "labels"
   ],
   "id": "4c0f126536bf201e",
   "outputs": [
    {
     "data": {
      "text/plain": [
       "array([0, 0, 0, 0, 0, 0, 0, 0, 0, 0, 0, 0, 0, 0, 0, 0, 0, 0, 0, 0, 0, 0,\n",
       "       0, 0, 0, 0, 0, 0, 0, 0, 0, 0, 0, 0, 0, 0, 0, 0, 0, 0, 0, 0, 0, 0,\n",
       "       0, 0, 0, 0, 0, 0, 1, 1, 2, 1, 1, 1, 1, 1, 1, 1, 1, 1, 1, 1, 1, 1,\n",
       "       1, 1, 1, 1, 1, 1, 1, 1, 1, 1, 1, 2, 1, 1, 1, 1, 1, 1, 1, 1, 1, 1,\n",
       "       1, 1, 1, 1, 1, 1, 1, 1, 1, 1, 1, 1, 2, 1, 2, 2, 2, 2, 1, 2, 2, 2,\n",
       "       2, 2, 2, 1, 1, 2, 2, 2, 2, 1, 2, 1, 2, 1, 2, 2, 1, 1, 2, 2, 2, 2,\n",
       "       2, 1, 2, 2, 2, 2, 1, 2, 2, 2, 1, 2, 2, 2, 1, 2, 2, 1])"
      ]
     },
     "execution_count": 5,
     "metadata": {},
     "output_type": "execute_result"
    }
   ],
   "execution_count": 5
  },
  {
   "metadata": {},
   "cell_type": "markdown",
   "source": "After clustering, each of the 150 training samples are assigned to one of three possible clusters labelled either 0, 1, or 2. Recall that the training set is arranged so that the first 50 samples are of type \"setosa\", next 50 \"versicolor\", and the last 50 \"virginica\". Let us compare the clustering results to that of species values: ",
   "id": "a60210225ca9df21"
  },
  {
   "metadata": {
    "ExecuteTime": {
     "end_time": "2024-09-18T10:53:28.716120Z",
     "start_time": "2024-09-18T10:53:28.697399Z"
    }
   },
   "cell_type": "code",
   "source": [
    "print('Class setosa:', labels[:50])\n",
    "print('Class versicolor:', labels[50:100])\n",
    "print('Class virginica:', labels[100:])"
   ],
   "id": "aa6ed3917f99c04f",
   "outputs": [
    {
     "name": "stdout",
     "output_type": "stream",
     "text": [
      "Class setosa: [0 0 0 0 0 0 0 0 0 0 0 0 0 0 0 0 0 0 0 0 0 0 0 0 0 0 0 0 0 0 0 0 0 0 0 0 0\n",
      " 0 0 0 0 0 0 0 0 0 0 0 0 0]\n",
      "Class versicolor: [1 1 2 1 1 1 1 1 1 1 1 1 1 1 1 1 1 1 1 1 1 1 1 1 1 1 1 2 1 1 1 1 1 1 1 1 1\n",
      " 1 1 1 1 1 1 1 1 1 1 1 1 1]\n",
      "Class virginica: [2 1 2 2 2 2 1 2 2 2 2 2 2 1 1 2 2 2 2 1 2 1 2 1 2 2 1 1 2 2 2 2 2 1 2 2 2\n",
      " 2 1 2 2 2 1 2 2 2 1 2 2 1]\n"
     ]
    }
   ],
   "execution_count": 6
  },
  {
   "metadata": {},
   "cell_type": "markdown",
   "source": "We find that all the samples of class setosa (and those only) really ended up in the same cluster. In the other two classes there is some mixing, but this simple clustering exercise was able to place the different flower samples in three classes according to their identity with quite reasonable success. Next, we take a closer look at how the k-means clustering actually works.",
   "id": "1973237d6998bac"
  },
  {
   "metadata": {},
   "cell_type": "markdown",
   "source": [
    "## K-means algorithm\n",
    "\n",
    "Consider a training set with $N$ samples, each characterized by their $M$ separate variable values $x_{1}^{(i)}, x_{2}^{(i)}, ..., x_{M}^{(i)}$, $i = 1,...,N$; in our iris example, $N = 150$ and $M = 4$. K-means clustering involves a single hyperparameter $k$: the number of clusters the training set samples are subdivided into. The algorithm proceeds to find this cluster division as follows:\n",
    "\n",
    "1) First, $k$ **means/cluster centers/centroids** are **initialized**. Each centroid is a point in the same $M$-dimensional space as the training data samples, with coordinates $m_{1}^{(j)}, m_{2}^{(j)}, ..., m_{M}^{(j)}$, $j = 1,...,k$. Often the cluster centroids are initialized randomly: their coordinate values might e.g. be taken to coincide with those of $k$ randomly selected samples from the training set.\n",
    "\n",
    "2) Next, each sample is **assigned** to the cluster whose centroid is nearest to it. For this purpose, the Euclidean distance (see module 3) is usually used. For each sample denoted by index $i$, the distance to each of the $k$ clusters is computed with the expression \n",
    "$$\n",
    "d^{(i,j)} = \\sqrt{(x_{1}^{(i)}-m_{1}^{(j)})^{2}+...+(x_{M}^{(i)}-m_{M}^{(j)})^{2}}, \\hspace{5mm} j=1,...,k \n",
    "$$ \n",
    "and each sample is assigned to the cluster whose centroid has the shortest distance to it.\n",
    "\n",
    "3) After the assignment step has been completed, the cluster centroids are **updated**. The most common strategy for updating the centroids is to take the *averages* of the coordinate values of the individual samples assigned to that particular cluster. Consider, e.g. that $N_{j}$ samples have been assigned to a cluster with index $j$; in that case, the updated value for the first coordinate $m_{1}^{(j)}$ for that centroid is calculated as (the sum is taken over the samples assigned to cluster j)\n",
    "$$\n",
    "m_{1}^{(j)} = \\frac{1}{N_{j}}\\sum_{i=1}^{N_j} x_{1}^{(i)},\n",
    "$$\n",
    "and similarly for all the other $M-1$ coordinates.\n",
    "\n",
    "4) The two previous steps (assignment + update) are **repeated** until the algorithm has converged, and the cluster assignments no longer change.\n",
    "\n",
    "The cost function for the k-means clustering problem is the sum of squared distances for each sample to its assigned cluster center; this is also sometimes referred to as *inertia*. This problem, however, is computationally hard (NP-hard), and the k-means algorithm is not guaranteed to solve it: the converged solution is not necessarily the optimal one. Furthermore, the final solution may also depend on the initialization. Sometimes it may be necessary, therefore, to run the algorithm several times with different random initializations.\n",
    "\n",
    "After the clustering is completed, the variable/coordinate values of the final cluster centers (the \"k means\") can be accessed as follows:  "
   ],
   "id": "a51c05a7d163e2d2"
  },
  {
   "metadata": {
    "ExecuteTime": {
     "end_time": "2024-09-18T11:05:54.273924Z",
     "start_time": "2024-09-18T11:05:54.259149Z"
    }
   },
   "cell_type": "code",
   "source": "model.cluster_centers_ ",
   "id": "4820eb9c8b832555",
   "outputs": [
    {
     "data": {
      "text/plain": [
       "array([[5.006     , 3.428     , 1.462     , 0.246     ],\n",
       "       [5.9016129 , 2.7483871 , 4.39354839, 1.43387097],\n",
       "       [6.85      , 3.07368421, 5.74210526, 2.07105263]])"
      ]
     },
     "execution_count": 10,
     "metadata": {},
     "output_type": "execute_result"
    }
   ],
   "execution_count": 10
  },
  {
   "metadata": {},
   "cell_type": "markdown",
   "source": [
    "These centroids can be thought as representative average members of the cluster they are related to; they provide information about the distribution of variables that has led to the observed clustering. In the example above, the cluster labeled 0 clearly is distinguished from the other two by the small numerical values of variables 2 and 3 (petal length and petal width) of its members.\n",
    "\n",
    "Finally, the trained model can be used to assign cluster labels to any collection of new samples as well. In the code cell below, this is done for a small slice of the training data, just to provide an example:"
   ],
   "id": "80c8548893e26587"
  },
  {
   "metadata": {
    "ExecuteTime": {
     "end_time": "2024-09-15T17:16:53.141767Z",
     "start_time": "2024-09-15T17:16:53.132616Z"
    }
   },
   "cell_type": "code",
   "source": "model.predict(X[-10:])",
   "id": "9b8590fdec404a44",
   "outputs": [
    {
     "data": {
      "text/plain": [
       "array([2, 2, 1, 2, 2, 2, 1, 2, 2, 1])"
      ]
     },
     "execution_count": 6,
     "metadata": {},
     "output_type": "execute_result"
    }
   ],
   "execution_count": 6
  },
  {
   "metadata": {},
   "cell_type": "markdown",
   "source": [
    "## Performance evaluation and selecting k\n",
    "\n",
    "Next we turn to the question of evaluating the clustering results. In supervised learning, there are no target labels to compare the clusters with, so the evaluation process needs to be approached in a different manner. Also, in the k-means algorithm the number of clusters needs to be chosen in advance, and the correct value for this choice is not necessarily always available. We need some ideas for choosing the optimal k, and also for assessing the usefulness of the obtained results.  \n",
    "\n",
    "The most obvious measure for the quality of clustering is the inertia (or within-cluster sum of squared distances, WCSS), which the k-means algorithm attempts to minimize. In the code cell below, the iris dataset is clustered with different values of k, and the corresponding inertia values are plotted against k: "
   ],
   "id": "27f06074af726ee"
  },
  {
   "metadata": {
    "ExecuteTime": {
     "end_time": "2024-09-18T11:26:53.135341Z",
     "start_time": "2024-09-18T11:26:52.425150Z"
    }
   },
   "cell_type": "code",
   "source": [
    "import matplotlib.pyplot as plt\n",
    "\n",
    "wcss = []\n",
    "for i in range(1,11):\n",
    "    model = KMeans(init='random', n_clusters=i, random_state=42).fit(X)\n",
    "    wcss.append(model.inertia_)\n",
    "    \n",
    "plt.plot(range(1,11), wcss, 'o-')\n",
    "plt.xlabel('Number of clusters')\n",
    "plt.ylabel('WCSS')\n",
    "plt.show()"
   ],
   "id": "c976b1abab5351ad",
   "outputs": [
    {
     "data": {
      "text/plain": [
       "<Figure size 640x480 with 1 Axes>"
      ],
      "image/png": "[encoded data removed]"
     },
     "metadata": {},
     "output_type": "display_data"
    }
   ],
   "execution_count": 14
  },
  {
   "metadata": {},
   "cell_type": "markdown",
   "source": [
    "Note that the above plot exhibits the characteristic appearance of an \"elbow\": for small k the inertia decreases rapidly, but above a certain value of k the inertia decreases only quite slowly. The optimal values for k are usually found near the elbow, which in the above example appears to be located at k=3. This procedure is referred to as **the elbow method**, and is fairly often used to select the optimal value for k. \n",
    "\n",
    "The obvious problem with using inertia for measuring the quality of clusters is that it is not normalized: it is only useful for comparing results from different modelling attempts with each other. Another popular measure for cluster assessment is the **Silhouette Coefficient** $s$, which for a single sample is defined as\n",
    "\n",
    "$$\n",
    "s = \\frac{b-a}{{\\rm max}(a,b)}\n",
    "$$\n",
    "where $a$ is the mean distance from the sample to all the other samples in the same cluster, and $b$ is the mean distance from the sample to all the other samples in the next nearest cluster. For the entire set, the Silhouette Coefficient is defined as the mean value of $s$ for all the samples in it. From the definition, $-1 \\le s \\le 1$.\n",
    "\n",
    "The Silhouette Coefficient is easily interpreted: the clustering for a sample is appropriate if $a \\ll b$, or if $s$ is close to 1, inappropriate if $s$ is close to -1, and on the borderline if $s$ is close to zero. Below we study its value for our example problem:"
   ],
   "id": "112bd4c9403397cf"
  },
  {
   "metadata": {
    "ExecuteTime": {
     "end_time": "2024-09-18T12:42:05.218293Z",
     "start_time": "2024-09-18T12:42:05.154226Z"
    }
   },
   "cell_type": "code",
   "source": [
    "from sklearn.metrics import silhouette_score\n",
    "\n",
    "model = KMeans(init='random', n_clusters=3, random_state=42).fit(X)\n",
    "labels = model.labels_\n",
    "print('Silhouette score = %.2f' % silhouette_score(X, labels))"
   ],
   "id": "74e2b46fc9284862",
   "outputs": [
    {
     "name": "stdout",
     "output_type": "stream",
     "text": [
      "Silhouette score = 0.55\n"
     ]
    }
   ],
   "execution_count": 19
  },
  {
   "metadata": {},
   "cell_type": "markdown",
   "source": "This particular score indicates that the clustering results are not exceptionally strong, but they can still be considered reasonable.",
   "id": "7b9ed13b11003f5"
  },
  {
   "metadata": {},
   "cell_type": "markdown",
   "source": [
    "## Hierarchical clustering\n",
    "\n",
    "K-means is a very popular clustering algorithm because of its simplicity, efficiency, and robustness. However, it has its shortcomings, one of which is the need to specify the number of clusters in advance, as discussed above. Also, k-means is known to be quite sensitive to outliers in the training data.\n",
    "\n",
    "As another alternative example of clustering algorithms, we take a brief look at **hierarchical clustering**. Actually, this is really a family of fairly similar algorithms, of which we look at one specific example. Hierarchical clustering for a dataset with N samples might be implemented as follows:\n",
    "\n",
    "- In the beginning, there are N clusters, each having one of the samples as its only member and centroid.\n",
    "- Next, the (Euclidean) distances between the centroids of all cluster pairs are calculated, and the two clusters nearest each other are joined to form a new cluster containing the samples in them. As a result, the number of clusters decreases by one.\n",
    "- The centroid of the new cluster formed in the previous step is calculated as the average of all the samples it contains.\n",
    "- The last two steps are repeated, until all the samples are in the same cluster (the number of clusters is reduced to 1).  \n",
    "\n",
    "The procedure above is an example of **agglomerative** hierarchical clustering: the number of clusters decreases from N to 1. It is also possible to perform hierarchical clustering in a **divisive** manner: starting with one cluster, and breaking it up into smaller clusters. \n",
    "\n",
    "After executing this algorithm, intermediate clustering results become available for any number of clusters. Therefore, it is not necessary to know k in advance, which is an advantage: it is possible to choose the one with optimal properties, such as one having well-separated and dense collections or data samples. This, however, comes with a cost of extensive computational labor: hierarchical clustering involves $O(N^3)$ mathematical operations for completion. Therefore, the preferred solution often is to run k-means clustering with several different values of k instead, compare the results, and select the optimal one for the purpose.  "
   ],
   "id": "59345dc419686c92"
  },
  {
   "metadata": {},
   "cell_type": "markdown",
   "source": "",
   "id": "9a024d840ee187d5"
  }
 ],
 "metadata": {
  "kernelspec": {
   "display_name": "Python 3",
   "language": "python",
   "name": "python3"
  },
  "language_info": {
   "codemirror_mode": {
    "name": "ipython",
    "version": 2
   },
   "file_extension": ".py",
   "mimetype": "text/x-python",
   "name": "python",
   "nbconvert_exporter": "python",
   "pygments_lexer": "ipython2",
   "version": "2.7.6"
  }
 },
 "nbformat": 4,
 "nbformat_minor": 5
}
