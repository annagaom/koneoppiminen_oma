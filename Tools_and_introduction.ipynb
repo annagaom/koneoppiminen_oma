{
 "cells": [
  {
   "cell_type": "markdown",
   "source": [
    "# 1. Tools and introduction\n",
    "\n",
    "## Getting Started: Jupyter Notebook\n",
    "\n",
    "This course aims to provide an introduction to data analysis and machine learning with Python. You will learn ideas and concepts about how to extract useful information from gathered data - in order to gain important new insights and draw interesting conclusions from its contents. Such information is often not easily or directly attainable, and can only be accessed with the help of specialized methods.\n",
    "\n",
    "The Python programming language offers a large number of libraries for analysing and manipulating data. A convenient way to get started is by installing a free Python distribution called *Anaconda* (www.anaconda.com). In addition to standard libraries, Anaconda automatically incorporates many of the central data science tools and packages - including *Jupyter Notebook*, a web-based interactive environment, which provides a platform to write and execute Python code and complement it with explanatory text and rich annotations. All the material for this course (including this document) will be provided as notebook documents, denoted by the `.ipynb` extension.\n",
    "\n",
    "After installing the Anaconda distribution, you will find Jupyter Notebook among the installed applications. On launching it, a directory listing opens up in a web browser. You can either locate and select an existing notebook for opening, or create a new notebook: press the button \"New\" in upper right corner of the page, and select \"Notebook: Python 3 (ipykernel)\".  \n",
    "\n",
    "Jupyter Notebook documents contain two kinds of cells: *code cells* for writing and executing Python code, and *markdown cells* (like this one) for annotation purposes. To run the code in one of the code cells, select the cell first and then either press SHIFT + ENTER, or the \"Run\" button in the above toolbar. The interactive-mode IPython interpreter then displays the resulting output (if any) for inspection. With markdown cells, you can create explanatory content to accompany your code; for additional information, see e.g. https://jupyter-notebook.readthedocs.io/en/stable/.\n",
    "\n",
    "**NOTE:** When the notebook is reopened after closing it, the kernel restarts, and all the variables from before are lost; you will have to execute the code again to restore their values. Also, when working with notebooks and constantly rewriting and executing the cells, sometimes errors might creep up and cause the kernel to crash or the notebook to get stuck. In this case, it is usually a good idea to restart the kernel and execute its cells all over again; this can conveniently be accomplished by selecting \"Restart & Run All\" from the \"Kernel\" dropdown menu.\n",
    "\n",
    "As the next step, execute the first code cell right below to import two Python modules: **NumPy** is a basic package for scientific computing, whereas the **pandas** library is a specialized library for reading and manipulating data. These two libraries form the background for any data analysis project with Python. In the following, we take a brief look at both of them."
   ],
   "metadata": {
    "collapsed": false
   },
   "id": "49eb544740be2ce4"
  },
  {
   "cell_type": "code",
   "id": "ceaaa4d2",
   "metadata": {
    "ExecuteTime": {
     "end_time": "2024-08-16T09:56:46.203521Z",
     "start_time": "2024-08-16T09:56:45.050305Z"
    }
   },
   "source": [
    "import numpy as np\n",
    "import pandas as pd"
   ],
   "outputs": [],
   "execution_count": 1
  },
  {
   "cell_type": "markdown",
   "id": "98f14d8b",
   "metadata": {},
   "source": [
    "## Basic Properties of NumPy Arrays\n",
    "\n",
    "NumPy is an open-source extension library of Python for comprehensive and efficient numerical computation.\n",
    "\n",
    "In particular, the NumPy library introduces a powerful new object called *ndarray* (N-dimensional array), or *array* for short, which can be thought of as an enhanced version of lists in standard Python. NumPy arrays have many useful computational features, which are optimized for rapid execution. Practically all data analysis and machine learning libraries are based on using NumPy arrays in the background. Below, we get acquainted with some of their basic properties.\n",
    "\n",
    "A new array can be created by converting a Python list with the use of the `array()` function:"
   ]
  },
  {
   "cell_type": "code",
   "id": "3ab0446d",
   "metadata": {
    "ExecuteTime": {
     "end_time": "2024-08-16T09:56:46.219120Z",
     "start_time": "2024-08-16T09:56:46.203521Z"
    }
   },
   "source": [
    "arr1d = np.array([1, 2, 3, 4, 5])\n",
    "arr1d"
   ],
   "outputs": [
    {
     "data": {
      "text/plain": [
       "array([1, 2, 3, 4, 5])"
      ]
     },
     "execution_count": 2,
     "metadata": {},
     "output_type": "execute_result"
    }
   ],
   "execution_count": 2
  },
  {
   "cell_type": "markdown",
   "id": "b9a708c1",
   "metadata": {},
   "source": [
    "Note that executing the second of these two code lines results in the value of the variable `arr1d` to be displayed in the IPython output; this is a useful way to make sure that the code has intended consequences (however, this only applies to the final line in each code cell). The array object has the following useful attributes:"
   ]
  },
  {
   "cell_type": "code",
   "id": "31ddd677",
   "metadata": {
    "ExecuteTime": {
     "end_time": "2024-08-16T09:56:46.234916Z",
     "start_time": "2024-08-16T09:56:46.219120Z"
    }
   },
   "source": [
    "print(arr1d.dtype) # data type of elements in array\n",
    "print(arr1d.ndim) # array dimension / number of axes / rank\n",
    "print(arr1d.size) # number of elements in array\n",
    "print(arr1d.shape) # array shape = size of each dimension (tuple)"
   ],
   "outputs": [
    {
     "name": "stdout",
     "output_type": "stream",
     "text": [
      "int32\n",
      "1\n",
      "5\n",
      "(5,)\n"
     ]
    }
   ],
   "execution_count": 3
  },
  {
   "cell_type": "markdown",
   "id": "8a9959fd",
   "metadata": {},
   "source": [
    "Arrays can have any dimension, but an important special case is a two-dimensional one: such arrays can used to represent data in a form of a simple table. Here is an example with four rows and three columns:"
   ]
  },
  {
   "cell_type": "code",
   "id": "ea14c1a0",
   "metadata": {
    "ExecuteTime": {
     "end_time": "2024-08-16T09:56:46.250748Z",
     "start_time": "2024-08-16T09:56:46.235084Z"
    }
   },
   "source": [
    "arr2d = np.array([[1., 2., 3.], [4., 5., 6.], [7., 8., 9.], [10., 11., 12.]])\n",
    "arr2d"
   ],
   "outputs": [
    {
     "data": {
      "text/plain": [
       "array([[ 1.,  2.,  3.],\n",
       "       [ 4.,  5.,  6.],\n",
       "       [ 7.,  8.,  9.],\n",
       "       [10., 11., 12.]])"
      ]
     },
     "execution_count": 4,
     "metadata": {},
     "output_type": "execute_result"
    }
   ],
   "execution_count": 4
  },
  {
   "cell_type": "markdown",
   "id": "0bf4d958",
   "metadata": {},
   "source": [
    "As seen below, the inclusion of the decimal point ensures that the elements are treated as floating-point numbers instead of integers (the trailing zeroes in the fractional part can be omitted):"
   ]
  },
  {
   "cell_type": "code",
   "id": "ba1c5664",
   "metadata": {
    "ExecuteTime": {
     "end_time": "2024-08-16T09:56:46.266462Z",
     "start_time": "2024-08-16T09:56:46.250748Z"
    }
   },
   "source": [
    "print(arr2d.dtype) \n",
    "print(arr2d.ndim) \n",
    "print(arr2d.size) \n",
    "print(arr2d.shape)"
   ],
   "outputs": [
    {
     "name": "stdout",
     "output_type": "stream",
     "text": [
      "float64\n",
      "2\n",
      "12\n",
      "(4, 3)\n"
     ]
    }
   ],
   "execution_count": 5
  },
  {
   "cell_type": "markdown",
   "id": "ce01b981",
   "metadata": {},
   "source": [
    "Individual array elements can be accessed as follows (note that indexing begins at zero, as with lists):"
   ]
  },
  {
   "cell_type": "code",
   "id": "f3cd0f8f",
   "metadata": {
    "ExecuteTime": {
     "end_time": "2024-08-16T09:56:46.282217Z",
     "start_time": "2024-08-16T09:56:46.266462Z"
    }
   },
   "source": [
    "print(arr1d[0]) # first element of 1D array\n",
    "print(arr2d[1][2]) # element in 2nd row, 3rd column"
   ],
   "outputs": [
    {
     "name": "stdout",
     "output_type": "stream",
     "text": [
      "1\n",
      "6.0\n"
     ]
    }
   ],
   "execution_count": 6
  },
  {
   "cell_type": "markdown",
   "id": "070e647f",
   "metadata": {},
   "source": [
    "Unlike lists, NumPy arrays can be subjected to arithmetic operations, which are performed *elementwise*. The same applies for e.g. roots and trigonometric functions; however, remember to use the NumPy versions of these functions (prefixed with the `np.` alias)."
   ]
  },
  {
   "cell_type": "code",
   "id": "e066d7a9",
   "metadata": {
    "ExecuteTime": {
     "end_time": "2024-08-16T09:56:46.288830Z",
     "start_time": "2024-08-16T09:56:46.282217Z"
    }
   },
   "source": [
    "print(arr1d + 3) # adds 3 to each element\n",
    "print(arr2d / 2.0) # divides all the elements by 2.0\n",
    "print(arr1d ** 2) # squares all elements\n",
    "print(np.sqrt(arr1d)) # replaces all elements with their square roots"
   ],
   "outputs": [
    {
     "name": "stdout",
     "output_type": "stream",
     "text": [
      "[4 5 6 7 8]\n",
      "[[0.5 1.  1.5]\n",
      " [2.  2.5 3. ]\n",
      " [3.5 4.  4.5]\n",
      " [5.  5.5 6. ]]\n",
      "[ 1  4  9 16 25]\n",
      "[1.         1.41421356 1.73205081 2.         2.23606798]\n"
     ]
    }
   ],
   "execution_count": 7
  },
  {
   "cell_type": "markdown",
   "id": "7e7f040d",
   "metadata": {},
   "source": [
    "Subsets can be extracted out of existing arrays via an operation called *slicing*. The desired selection range is specified by giving the start and end indices, separated by a colon. These ranges can be specified for each of the axes in the array separately. If the start and/or end index is omitted, the default values are 0 and the size of the axis, respectively. Here are some examples of array slicing:"
   ]
  },
  {
   "cell_type": "code",
   "id": "66690791",
   "metadata": {
    "ExecuteTime": {
     "end_time": "2024-08-16T09:56:46.304582Z",
     "start_time": "2024-08-16T09:56:46.288950Z"
    }
   },
   "source": [
    "print(arr2d[0:3]) # extract rows with indices 0-2 (3 not included) \n",
    "print(arr2d[:,:1]) # extract first column only\n",
    "print(arr2d[:,-2:]) # extract last two columns\n",
    "print(arr1d[::2]) # extract every other element (step size 2)"
   ],
   "outputs": [
    {
     "name": "stdout",
     "output_type": "stream",
     "text": [
      "[[1. 2. 3.]\n",
      " [4. 5. 6.]\n",
      " [7. 8. 9.]]\n",
      "[[ 1.]\n",
      " [ 4.]\n",
      " [ 7.]\n",
      " [10.]]\n",
      "[[ 2.  3.]\n",
      " [ 5.  6.]\n",
      " [ 8.  9.]\n",
      " [11. 12.]]\n",
      "[1 3 5]\n"
     ]
    }
   ],
   "execution_count": 8
  },
  {
   "cell_type": "markdown",
   "id": "b75903c9",
   "metadata": {},
   "source": [
    "**NOTE:** Slicing produces a *view* (shallow copy) of the original data. Accordingly, any changes in the original array are reflected in the slice as well:"
   ]
  },
  {
   "cell_type": "code",
   "id": "3f4c4aa5",
   "metadata": {
    "ExecuteTime": {
     "end_time": "2024-08-16T09:56:46.320208Z",
     "start_time": "2024-08-16T09:56:46.304582Z"
    }
   },
   "source": [
    "a = np.array([1, 2, 3, 4, 5, 6])\n",
    "a_slice = a[0:3] # array([1, 2, 3])\n",
    "a[0] = 0 # changing the first element of a\n",
    "a_slice # ... also modifies the slice"
   ],
   "outputs": [
    {
     "data": {
      "text/plain": [
       "array([0, 2, 3])"
      ]
     },
     "execution_count": 9,
     "metadata": {},
     "output_type": "execute_result"
    }
   ],
   "execution_count": 9
  },
  {
   "cell_type": "markdown",
   "id": "4a2fa369",
   "metadata": {},
   "source": [
    "In order to produce a true separate copy of an array, you can use the `copy()` method of the array:"
   ]
  },
  {
   "cell_type": "code",
   "id": "cfd6c6db",
   "metadata": {
    "ExecuteTime": {
     "end_time": "2024-08-16T09:56:46.335954Z",
     "start_time": "2024-08-16T09:56:46.320208Z"
    }
   },
   "source": [
    "a = np.array([1, 2, 3, 4, 5, 6])\n",
    "a_copy = a.copy()\n",
    "a[0] = 0 # changing the first element of a\n",
    "a_copy # ... does not affect a_copy"
   ],
   "outputs": [
    {
     "data": {
      "text/plain": [
       "array([1, 2, 3, 4, 5, 6])"
      ]
     },
     "execution_count": 10,
     "metadata": {},
     "output_type": "execute_result"
    }
   ],
   "execution_count": 10
  },
  {
   "cell_type": "markdown",
   "id": "796bab3b",
   "metadata": {},
   "source": [
    "Sometimes it is useful to generate an array with some desired initial content. The following cell gives some examples."
   ]
  },
  {
   "cell_type": "code",
   "id": "5e2666d0",
   "metadata": {
    "ExecuteTime": {
     "end_time": "2024-08-16T09:56:46.351599Z",
     "start_time": "2024-08-16T09:56:46.335954Z"
    }
   },
   "source": [
    "print(np.zeros((2,2))) # 2x2 array with all zeroes\n",
    "print(np.random.random((3,3))) # 3x3 array with random values 0 ... 1\n",
    "print(np.arange(3,10)) # sequence from 3 to 9 (10 not included)\n",
    "print(np.linspace(0, 10, 5)) # five evenly spaced values from 0 to 10"
   ],
   "outputs": [
    {
     "name": "stdout",
     "output_type": "stream",
     "text": [
      "[[0. 0.]\n",
      " [0. 0.]]\n",
      "[[0.58742978 0.32160727 0.91680687]\n",
      " [0.84017056 0.29866969 0.624413  ]\n",
      " [0.07672841 0.685516   0.33230241]]\n",
      "[3 4 5 6 7 8 9]\n",
      "[ 0.   2.5  5.   7.5 10. ]\n"
     ]
    }
   ],
   "execution_count": 11
  },
  {
   "cell_type": "markdown",
   "id": "86683a99",
   "metadata": {},
   "source": [
    "The above listing of the properties of NumPy arrays is by no means exhaustive; see e.g. NumPy user guide (https://numpy.org/devdocs/user/index.html) for much more information.\n",
    "\n",
    "Even though the underlying computation in most data science libraries in Python is performed using NumPy arrays behind the scenes (and, therefore, it is useful to know about their basic properties), it is not always necessary to deal with them directly when writing code. For example, the pandas library introduces another powerful object (DataFrame) for manipulating data in the form of a table. This is our next topic of interest.\n",
    "\n",
    "## Pandas and Data Tables\n",
    "\n",
    "In order to conduct data analysis, we obviously need some kind of data to deal with. As our first example, we use the famous *Iris flower dataset* about morphological variation of iris flowers. The dataset comprises measurements of 150 different flower samples belonging to three different species (Iris setosa, Iris virginica, and Iris versicolor). For each sample, four numerical features were measured (length and width of its petals and sepals in units of cm) and recorded together with the species of that sample. \n",
    "\n",
    "This data is provided in the course material in the form of a CSV (comma-separated values) file, and can be easily accessed with the `read_csv` function in the pandas library: the path to locate the file just needs to be specified in the function argument. "
   ]
  },
  {
   "cell_type": "code",
   "id": "f80d7741",
   "metadata": {
    "ExecuteTime": {
     "end_time": "2024-08-16T09:56:46.367168Z",
     "start_time": "2024-08-16T09:56:46.351599Z"
    }
   },
   "source": [
    "iris_df = pd.read_csv('datasets/iris/iris.csv')\n",
    "iris_df"
   ],
   "outputs": [
    {
     "data": {
      "text/plain": [
       "     sepal_length  sepal_width  petal_length  petal_width    species\n",
       "0             5.1          3.5           1.4          0.2     setosa\n",
       "1             4.9          3.0           1.4          0.2     setosa\n",
       "2             4.7          3.2           1.3          0.2     setosa\n",
       "3             4.6          3.1           1.5          0.2     setosa\n",
       "4             5.0          3.6           1.4          0.2     setosa\n",
       "..            ...          ...           ...          ...        ...\n",
       "145           6.7          3.0           5.2          2.3  virginica\n",
       "146           6.3          2.5           5.0          1.9  virginica\n",
       "147           6.5          3.0           5.2          2.0  virginica\n",
       "148           6.2          3.4           5.4          2.3  virginica\n",
       "149           5.9          3.0           5.1          1.8  virginica\n",
       "\n",
       "[150 rows x 5 columns]"
      ],
      "text/html": [
       "<div>\n",
       "<style scoped>\n",
       "    .dataframe tbody tr th:only-of-type {\n",
       "        vertical-align: middle;\n",
       "    }\n",
       "\n",
       "    .dataframe tbody tr th {\n",
       "        vertical-align: top;\n",
       "    }\n",
       "\n",
       "    .dataframe thead th {\n",
       "        text-align: right;\n",
       "    }\n",
       "</style>\n",
       "<table border=\"1\" class=\"dataframe\">\n",
       "  <thead>\n",
       "    <tr style=\"text-align: right;\">\n",
       "      <th></th>\n",
       "      <th>sepal_length</th>\n",
       "      <th>sepal_width</th>\n",
       "      <th>petal_length</th>\n",
       "      <th>petal_width</th>\n",
       "      <th>species</th>\n",
       "    </tr>\n",
       "  </thead>\n",
       "  <tbody>\n",
       "    <tr>\n",
       "      <th>0</th>\n",
       "      <td>5.1</td>\n",
       "      <td>3.5</td>\n",
       "      <td>1.4</td>\n",
       "      <td>0.2</td>\n",
       "      <td>setosa</td>\n",
       "    </tr>\n",
       "    <tr>\n",
       "      <th>1</th>\n",
       "      <td>4.9</td>\n",
       "      <td>3.0</td>\n",
       "      <td>1.4</td>\n",
       "      <td>0.2</td>\n",
       "      <td>setosa</td>\n",
       "    </tr>\n",
       "    <tr>\n",
       "      <th>2</th>\n",
       "      <td>4.7</td>\n",
       "      <td>3.2</td>\n",
       "      <td>1.3</td>\n",
       "      <td>0.2</td>\n",
       "      <td>setosa</td>\n",
       "    </tr>\n",
       "    <tr>\n",
       "      <th>3</th>\n",
       "      <td>4.6</td>\n",
       "      <td>3.1</td>\n",
       "      <td>1.5</td>\n",
       "      <td>0.2</td>\n",
       "      <td>setosa</td>\n",
       "    </tr>\n",
       "    <tr>\n",
       "      <th>4</th>\n",
       "      <td>5.0</td>\n",
       "      <td>3.6</td>\n",
       "      <td>1.4</td>\n",
       "      <td>0.2</td>\n",
       "      <td>setosa</td>\n",
       "    </tr>\n",
       "    <tr>\n",
       "      <th>...</th>\n",
       "      <td>...</td>\n",
       "      <td>...</td>\n",
       "      <td>...</td>\n",
       "      <td>...</td>\n",
       "      <td>...</td>\n",
       "    </tr>\n",
       "    <tr>\n",
       "      <th>145</th>\n",
       "      <td>6.7</td>\n",
       "      <td>3.0</td>\n",
       "      <td>5.2</td>\n",
       "      <td>2.3</td>\n",
       "      <td>virginica</td>\n",
       "    </tr>\n",
       "    <tr>\n",
       "      <th>146</th>\n",
       "      <td>6.3</td>\n",
       "      <td>2.5</td>\n",
       "      <td>5.0</td>\n",
       "      <td>1.9</td>\n",
       "      <td>virginica</td>\n",
       "    </tr>\n",
       "    <tr>\n",
       "      <th>147</th>\n",
       "      <td>6.5</td>\n",
       "      <td>3.0</td>\n",
       "      <td>5.2</td>\n",
       "      <td>2.0</td>\n",
       "      <td>virginica</td>\n",
       "    </tr>\n",
       "    <tr>\n",
       "      <th>148</th>\n",
       "      <td>6.2</td>\n",
       "      <td>3.4</td>\n",
       "      <td>5.4</td>\n",
       "      <td>2.3</td>\n",
       "      <td>virginica</td>\n",
       "    </tr>\n",
       "    <tr>\n",
       "      <th>149</th>\n",
       "      <td>5.9</td>\n",
       "      <td>3.0</td>\n",
       "      <td>5.1</td>\n",
       "      <td>1.8</td>\n",
       "      <td>virginica</td>\n",
       "    </tr>\n",
       "  </tbody>\n",
       "</table>\n",
       "<p>150 rows × 5 columns</p>\n",
       "</div>"
      ]
     },
     "execution_count": 12,
     "metadata": {},
     "output_type": "execute_result"
    }
   ],
   "execution_count": 12
  },
  {
   "cell_type": "markdown",
   "id": "b3a74b7b",
   "metadata": {},
   "source": [
    "The data is now available for further analyzing as a pandas *DataFrame* object; it has the form of a table with 150 rows and 5 columns (for clarity, only a few rows from the beginning and the end of the table are displayed). Each row in the data corresponds to a single flower **sample**, and the columns of the data represent the recorded **features** of the samples. In this dataset, each sample is characterized by five recorded features: four *numerical* features (sepal length, sepal width, petal length and petal width) and one *categorical* feature (species). The leftmost column in the output containing the unique row indices from 0 to 149 is auto-generated by pandas, and not part of the actual data. The column index names are set according to the header row of the CSV file.\n",
    "\n",
    "The distinction between numerical and categorical features is very significant in data analysis. Numerical features usually represent results of measurements; their values can be ordered in a meaningful way, and often vary on a continuous scale. In contrast, categorical features (such as the flower species in this example dataset) can only take on a limited number of discrete (often mutually exclusive) values, usually with no particular order among them. \n",
    "\n",
    "Pandas provides a huge selection of operations for manipulating the information stored in DataFrames. First, individual samples (rows) can be accessed by their indices using the `loc` attribute:"
   ]
  },
  {
   "cell_type": "code",
   "id": "d1749984",
   "metadata": {
    "ExecuteTime": {
     "end_time": "2024-08-16T09:56:46.382800Z",
     "start_time": "2024-08-16T09:56:46.367168Z"
    }
   },
   "source": [
    "print(iris_df.loc[0]) # row with index 0\n",
    "print(iris_df.loc[[0,3]]) # list of indices (0 and 3)\n",
    "print(iris_df.loc[0:3]) # index slice"
   ],
   "outputs": [
    {
     "name": "stdout",
     "output_type": "stream",
     "text": [
      "sepal_length       5.1\n",
      "sepal_width        3.5\n",
      "petal_length       1.4\n",
      "petal_width        0.2\n",
      "species         setosa\n",
      "Name: 0, dtype: object\n",
      "   sepal_length  sepal_width  petal_length  petal_width species\n",
      "0           5.1          3.5           1.4          0.2  setosa\n",
      "3           4.6          3.1           1.5          0.2  setosa\n",
      "   sepal_length  sepal_width  petal_length  petal_width species\n",
      "0           5.1          3.5           1.4          0.2  setosa\n",
      "1           4.9          3.0           1.4          0.2  setosa\n",
      "2           4.7          3.2           1.3          0.2  setosa\n",
      "3           4.6          3.1           1.5          0.2  setosa\n"
     ]
    }
   ],
   "execution_count": 13
  },
  {
   "cell_type": "markdown",
   "id": "13dd479b",
   "metadata": {},
   "source": [
    "Individual columns can be accessed by their index names:"
   ]
  },
  {
   "cell_type": "code",
   "id": "0505d650",
   "metadata": {
    "ExecuteTime": {
     "end_time": "2024-08-16T09:56:46.398456Z",
     "start_time": "2024-08-16T09:56:46.382800Z"
    }
   },
   "source": [
    "iris_df['sepal_length']"
   ],
   "outputs": [
    {
     "data": {
      "text/plain": [
       "0      5.1\n",
       "1      4.9\n",
       "2      4.7\n",
       "3      4.6\n",
       "4      5.0\n",
       "      ... \n",
       "145    6.7\n",
       "146    6.3\n",
       "147    6.5\n",
       "148    6.2\n",
       "149    5.9\n",
       "Name: sepal_length, Length: 150, dtype: float64"
      ]
     },
     "execution_count": 14,
     "metadata": {},
     "output_type": "execute_result"
    }
   ],
   "execution_count": 14
  },
  {
   "cell_type": "markdown",
   "id": "5abbeef8",
   "metadata": {},
   "source": [
    "The resulting output is a pandas *Series* object: a one-dimensional counterpart of a DataFrame. Also, a single data item can be accessed as follows:"
   ]
  },
  {
   "cell_type": "code",
   "id": "39d9adb0",
   "metadata": {
    "ExecuteTime": {
     "end_time": "2024-08-16T09:56:46.414093Z",
     "start_time": "2024-08-16T09:56:46.398456Z"
    }
   },
   "source": [
    "iris_df.loc[0, 'sepal_width'] # sepal width of sample with index 0"
   ],
   "outputs": [
    {
     "data": {
      "text/plain": [
       "3.5"
      ]
     },
     "execution_count": 15,
     "metadata": {},
     "output_type": "execute_result"
    }
   ],
   "execution_count": 15
  },
  {
   "cell_type": "markdown",
   "id": "53fa3c9a",
   "metadata": {},
   "source": [
    "Any subsets can be extracted by selecting rows and columns with slices and lists for both:"
   ]
  },
  {
   "cell_type": "code",
   "id": "d6991707",
   "metadata": {
    "ExecuteTime": {
     "end_time": "2024-08-16T09:56:46.426705Z",
     "start_time": "2024-08-16T09:56:46.414093Z"
    }
   },
   "source": [
    "iris_df.loc[147:, ['petal_length', 'petal_width']] # petal sizes for last three samples"
   ],
   "outputs": [
    {
     "data": {
      "text/plain": [
       "     petal_length  petal_width\n",
       "147           5.2          2.0\n",
       "148           5.4          2.3\n",
       "149           5.1          1.8"
      ],
      "text/html": [
       "<div>\n",
       "<style scoped>\n",
       "    .dataframe tbody tr th:only-of-type {\n",
       "        vertical-align: middle;\n",
       "    }\n",
       "\n",
       "    .dataframe tbody tr th {\n",
       "        vertical-align: top;\n",
       "    }\n",
       "\n",
       "    .dataframe thead th {\n",
       "        text-align: right;\n",
       "    }\n",
       "</style>\n",
       "<table border=\"1\" class=\"dataframe\">\n",
       "  <thead>\n",
       "    <tr style=\"text-align: right;\">\n",
       "      <th></th>\n",
       "      <th>petal_length</th>\n",
       "      <th>petal_width</th>\n",
       "    </tr>\n",
       "  </thead>\n",
       "  <tbody>\n",
       "    <tr>\n",
       "      <th>147</th>\n",
       "      <td>5.2</td>\n",
       "      <td>2.0</td>\n",
       "    </tr>\n",
       "    <tr>\n",
       "      <th>148</th>\n",
       "      <td>5.4</td>\n",
       "      <td>2.3</td>\n",
       "    </tr>\n",
       "    <tr>\n",
       "      <th>149</th>\n",
       "      <td>5.1</td>\n",
       "      <td>1.8</td>\n",
       "    </tr>\n",
       "  </tbody>\n",
       "</table>\n",
       "</div>"
      ]
     },
     "execution_count": 16,
     "metadata": {},
     "output_type": "execute_result"
    }
   ],
   "execution_count": 16
  },
  {
   "cell_type": "markdown",
   "id": "2a7e526f",
   "metadata": {},
   "source": [
    "One interesting property of DataFrames is the possibility to use Boolean conditions as indices to apply filtering based on the feature values:"
   ]
  },
  {
   "cell_type": "code",
   "id": "07e15685",
   "metadata": {
    "ExecuteTime": {
     "end_time": "2024-08-16T09:56:46.445989Z",
     "start_time": "2024-08-16T09:56:46.427806Z"
    }
   },
   "source": [
    "iris_df[iris_df['petal_length'] < 1.4] # all samples with petal length less than 1.4 cm"
   ],
   "outputs": [
    {
     "data": {
      "text/plain": [
       "    sepal_length  sepal_width  petal_length  petal_width species\n",
       "2            4.7          3.2           1.3          0.2  setosa\n",
       "13           4.3          3.0           1.1          0.1  setosa\n",
       "14           5.8          4.0           1.2          0.2  setosa\n",
       "16           5.4          3.9           1.3          0.4  setosa\n",
       "22           4.6          3.6           1.0          0.2  setosa\n",
       "35           5.0          3.2           1.2          0.2  setosa\n",
       "36           5.5          3.5           1.3          0.2  setosa\n",
       "38           4.4          3.0           1.3          0.2  setosa\n",
       "40           5.0          3.5           1.3          0.3  setosa\n",
       "41           4.5          2.3           1.3          0.3  setosa\n",
       "42           4.4          3.2           1.3          0.2  setosa"
      ],
      "text/html": [
       "<div>\n",
       "<style scoped>\n",
       "    .dataframe tbody tr th:only-of-type {\n",
       "        vertical-align: middle;\n",
       "    }\n",
       "\n",
       "    .dataframe tbody tr th {\n",
       "        vertical-align: top;\n",
       "    }\n",
       "\n",
       "    .dataframe thead th {\n",
       "        text-align: right;\n",
       "    }\n",
       "</style>\n",
       "<table border=\"1\" class=\"dataframe\">\n",
       "  <thead>\n",
       "    <tr style=\"text-align: right;\">\n",
       "      <th></th>\n",
       "      <th>sepal_length</th>\n",
       "      <th>sepal_width</th>\n",
       "      <th>petal_length</th>\n",
       "      <th>petal_width</th>\n",
       "      <th>species</th>\n",
       "    </tr>\n",
       "  </thead>\n",
       "  <tbody>\n",
       "    <tr>\n",
       "      <th>2</th>\n",
       "      <td>4.7</td>\n",
       "      <td>3.2</td>\n",
       "      <td>1.3</td>\n",
       "      <td>0.2</td>\n",
       "      <td>setosa</td>\n",
       "    </tr>\n",
       "    <tr>\n",
       "      <th>13</th>\n",
       "      <td>4.3</td>\n",
       "      <td>3.0</td>\n",
       "      <td>1.1</td>\n",
       "      <td>0.1</td>\n",
       "      <td>setosa</td>\n",
       "    </tr>\n",
       "    <tr>\n",
       "      <th>14</th>\n",
       "      <td>5.8</td>\n",
       "      <td>4.0</td>\n",
       "      <td>1.2</td>\n",
       "      <td>0.2</td>\n",
       "      <td>setosa</td>\n",
       "    </tr>\n",
       "    <tr>\n",
       "      <th>16</th>\n",
       "      <td>5.4</td>\n",
       "      <td>3.9</td>\n",
       "      <td>1.3</td>\n",
       "      <td>0.4</td>\n",
       "      <td>setosa</td>\n",
       "    </tr>\n",
       "    <tr>\n",
       "      <th>22</th>\n",
       "      <td>4.6</td>\n",
       "      <td>3.6</td>\n",
       "      <td>1.0</td>\n",
       "      <td>0.2</td>\n",
       "      <td>setosa</td>\n",
       "    </tr>\n",
       "    <tr>\n",
       "      <th>35</th>\n",
       "      <td>5.0</td>\n",
       "      <td>3.2</td>\n",
       "      <td>1.2</td>\n",
       "      <td>0.2</td>\n",
       "      <td>setosa</td>\n",
       "    </tr>\n",
       "    <tr>\n",
       "      <th>36</th>\n",
       "      <td>5.5</td>\n",
       "      <td>3.5</td>\n",
       "      <td>1.3</td>\n",
       "      <td>0.2</td>\n",
       "      <td>setosa</td>\n",
       "    </tr>\n",
       "    <tr>\n",
       "      <th>38</th>\n",
       "      <td>4.4</td>\n",
       "      <td>3.0</td>\n",
       "      <td>1.3</td>\n",
       "      <td>0.2</td>\n",
       "      <td>setosa</td>\n",
       "    </tr>\n",
       "    <tr>\n",
       "      <th>40</th>\n",
       "      <td>5.0</td>\n",
       "      <td>3.5</td>\n",
       "      <td>1.3</td>\n",
       "      <td>0.3</td>\n",
       "      <td>setosa</td>\n",
       "    </tr>\n",
       "    <tr>\n",
       "      <th>41</th>\n",
       "      <td>4.5</td>\n",
       "      <td>2.3</td>\n",
       "      <td>1.3</td>\n",
       "      <td>0.3</td>\n",
       "      <td>setosa</td>\n",
       "    </tr>\n",
       "    <tr>\n",
       "      <th>42</th>\n",
       "      <td>4.4</td>\n",
       "      <td>3.2</td>\n",
       "      <td>1.3</td>\n",
       "      <td>0.2</td>\n",
       "      <td>setosa</td>\n",
       "    </tr>\n",
       "  </tbody>\n",
       "</table>\n",
       "</div>"
      ]
     },
     "execution_count": 17,
     "metadata": {},
     "output_type": "execute_result"
    }
   ],
   "execution_count": 17
  },
  {
   "cell_type": "markdown",
   "id": "f2f69b16",
   "metadata": {},
   "source": [
    "Rows or columns can be deleted with the `drop()` function. "
   ]
  },
  {
   "cell_type": "code",
   "id": "1c04256b",
   "metadata": {
    "ExecuteTime": {
     "end_time": "2024-08-16T09:56:46.461586Z",
     "start_time": "2024-08-16T09:56:46.445989Z"
    }
   },
   "source": [
    "print(iris_df.drop(iris_df.index[5:145])) # delete rows with indices from 5 to but not including 145\n",
    "print(iris_df.drop(columns = 'species')) # drop the \"species\" column"
   ],
   "outputs": [
    {
     "name": "stdout",
     "output_type": "stream",
     "text": [
      "     sepal_length  sepal_width  petal_length  petal_width    species\n",
      "0             5.1          3.5           1.4          0.2     setosa\n",
      "1             4.9          3.0           1.4          0.2     setosa\n",
      "2             4.7          3.2           1.3          0.2     setosa\n",
      "3             4.6          3.1           1.5          0.2     setosa\n",
      "4             5.0          3.6           1.4          0.2     setosa\n",
      "145           6.7          3.0           5.2          2.3  virginica\n",
      "146           6.3          2.5           5.0          1.9  virginica\n",
      "147           6.5          3.0           5.2          2.0  virginica\n",
      "148           6.2          3.4           5.4          2.3  virginica\n",
      "149           5.9          3.0           5.1          1.8  virginica\n",
      "     sepal_length  sepal_width  petal_length  petal_width\n",
      "0             5.1          3.5           1.4          0.2\n",
      "1             4.9          3.0           1.4          0.2\n",
      "2             4.7          3.2           1.3          0.2\n",
      "3             4.6          3.1           1.5          0.2\n",
      "4             5.0          3.6           1.4          0.2\n",
      "..            ...          ...           ...          ...\n",
      "145           6.7          3.0           5.2          2.3\n",
      "146           6.3          2.5           5.0          1.9\n",
      "147           6.5          3.0           5.2          2.0\n",
      "148           6.2          3.4           5.4          2.3\n",
      "149           5.9          3.0           5.1          1.8\n",
      "\n",
      "[150 rows x 4 columns]\n"
     ]
    }
   ],
   "execution_count": 18
  },
  {
   "cell_type": "markdown",
   "id": "091b002a",
   "metadata": {},
   "source": [
    "Finally, comprehensive descriptive statistics of the DataFrame can be easily accessed with the `describe()` function. If the DataFrame contains mixed data types, only numeric columns are included in the analysis. The categorical data can also be included by adding the option `include = 'all'` to the function call. "
   ]
  },
  {
   "cell_type": "code",
   "id": "2c211ef6",
   "metadata": {
    "ExecuteTime": {
     "end_time": "2024-08-16T09:56:46.492863Z",
     "start_time": "2024-08-16T09:56:46.461586Z"
    }
   },
   "source": [
    "iris_df.describe(include = 'all')"
   ],
   "outputs": [
    {
     "data": {
      "text/plain": [
       "        sepal_length  sepal_width  petal_length  petal_width species\n",
       "count     150.000000   150.000000    150.000000   150.000000     150\n",
       "unique           NaN          NaN           NaN          NaN       3\n",
       "top              NaN          NaN           NaN          NaN  setosa\n",
       "freq             NaN          NaN           NaN          NaN      50\n",
       "mean        5.843333     3.054000      3.758667     1.198667     NaN\n",
       "std         0.828066     0.433594      1.764420     0.763161     NaN\n",
       "min         4.300000     2.000000      1.000000     0.100000     NaN\n",
       "25%         5.100000     2.800000      1.600000     0.300000     NaN\n",
       "50%         5.800000     3.000000      4.350000     1.300000     NaN\n",
       "75%         6.400000     3.300000      5.100000     1.800000     NaN\n",
       "max         7.900000     4.400000      6.900000     2.500000     NaN"
      ],
      "text/html": [
       "<div>\n",
       "<style scoped>\n",
       "    .dataframe tbody tr th:only-of-type {\n",
       "        vertical-align: middle;\n",
       "    }\n",
       "\n",
       "    .dataframe tbody tr th {\n",
       "        vertical-align: top;\n",
       "    }\n",
       "\n",
       "    .dataframe thead th {\n",
       "        text-align: right;\n",
       "    }\n",
       "</style>\n",
       "<table border=\"1\" class=\"dataframe\">\n",
       "  <thead>\n",
       "    <tr style=\"text-align: right;\">\n",
       "      <th></th>\n",
       "      <th>sepal_length</th>\n",
       "      <th>sepal_width</th>\n",
       "      <th>petal_length</th>\n",
       "      <th>petal_width</th>\n",
       "      <th>species</th>\n",
       "    </tr>\n",
       "  </thead>\n",
       "  <tbody>\n",
       "    <tr>\n",
       "      <th>count</th>\n",
       "      <td>150.000000</td>\n",
       "      <td>150.000000</td>\n",
       "      <td>150.000000</td>\n",
       "      <td>150.000000</td>\n",
       "      <td>150</td>\n",
       "    </tr>\n",
       "    <tr>\n",
       "      <th>unique</th>\n",
       "      <td>NaN</td>\n",
       "      <td>NaN</td>\n",
       "      <td>NaN</td>\n",
       "      <td>NaN</td>\n",
       "      <td>3</td>\n",
       "    </tr>\n",
       "    <tr>\n",
       "      <th>top</th>\n",
       "      <td>NaN</td>\n",
       "      <td>NaN</td>\n",
       "      <td>NaN</td>\n",
       "      <td>NaN</td>\n",
       "      <td>setosa</td>\n",
       "    </tr>\n",
       "    <tr>\n",
       "      <th>freq</th>\n",
       "      <td>NaN</td>\n",
       "      <td>NaN</td>\n",
       "      <td>NaN</td>\n",
       "      <td>NaN</td>\n",
       "      <td>50</td>\n",
       "    </tr>\n",
       "    <tr>\n",
       "      <th>mean</th>\n",
       "      <td>5.843333</td>\n",
       "      <td>3.054000</td>\n",
       "      <td>3.758667</td>\n",
       "      <td>1.198667</td>\n",
       "      <td>NaN</td>\n",
       "    </tr>\n",
       "    <tr>\n",
       "      <th>std</th>\n",
       "      <td>0.828066</td>\n",
       "      <td>0.433594</td>\n",
       "      <td>1.764420</td>\n",
       "      <td>0.763161</td>\n",
       "      <td>NaN</td>\n",
       "    </tr>\n",
       "    <tr>\n",
       "      <th>min</th>\n",
       "      <td>4.300000</td>\n",
       "      <td>2.000000</td>\n",
       "      <td>1.000000</td>\n",
       "      <td>0.100000</td>\n",
       "      <td>NaN</td>\n",
       "    </tr>\n",
       "    <tr>\n",
       "      <th>25%</th>\n",
       "      <td>5.100000</td>\n",
       "      <td>2.800000</td>\n",
       "      <td>1.600000</td>\n",
       "      <td>0.300000</td>\n",
       "      <td>NaN</td>\n",
       "    </tr>\n",
       "    <tr>\n",
       "      <th>50%</th>\n",
       "      <td>5.800000</td>\n",
       "      <td>3.000000</td>\n",
       "      <td>4.350000</td>\n",
       "      <td>1.300000</td>\n",
       "      <td>NaN</td>\n",
       "    </tr>\n",
       "    <tr>\n",
       "      <th>75%</th>\n",
       "      <td>6.400000</td>\n",
       "      <td>3.300000</td>\n",
       "      <td>5.100000</td>\n",
       "      <td>1.800000</td>\n",
       "      <td>NaN</td>\n",
       "    </tr>\n",
       "    <tr>\n",
       "      <th>max</th>\n",
       "      <td>7.900000</td>\n",
       "      <td>4.400000</td>\n",
       "      <td>6.900000</td>\n",
       "      <td>2.500000</td>\n",
       "      <td>NaN</td>\n",
       "    </tr>\n",
       "  </tbody>\n",
       "</table>\n",
       "</div>"
      ]
     },
     "execution_count": 19,
     "metadata": {},
     "output_type": "execute_result"
    }
   ],
   "execution_count": 19
  },
  {
   "cell_type": "markdown",
   "id": "2cf5e83b",
   "metadata": {},
   "source": [
    "This concludes our brief introduction to the pandas DataFrames. See pandas user guide (https://pandas.pydata.org/docs/user_guide/index.html) for much more."
   ]
  },
  {
   "metadata": {},
   "cell_type": "markdown",
   "source": [
    "## Some basic terminology\n",
    "\n",
    "Assume now that you encounter a new iris flower sample, of which you have access to the measured values of the lengths and widths of its petals and sepals. You are, however, not aware of the variety of this new sample, but would instead like to make a sensible prediction about which of the three possible iris species it belongs to. More precisely, consider that you are expected to write a computer program for accomplishing this task: the program should first ask the user for the numerical values of the four measured dimensions, and then output the name of the predicted category. How would you set about solving such a task? \n",
    "\n",
    "The early approaches for solving these kinds of problems involved first gathering domain-specific knowledge related to the task, expressing these in terms of a set of rules and, finally, converting these rules to program code. While this type of approach could be quite useful for some simple and well-defined tasks, this is not the case for many interesting and important problem categories (such as computer vision and pattern recognition). For more complex tasks, much better results can be obtained by using methods of **machine learning**.\n",
    "\n",
    "In machine learning, there is no need for the programmer to explicitly figure out and implement the specific rules for solving the problem under consideration. Instead, these rules are **automatically extracted from data**. In terms of our iris example, this means that the programmer does not need to study botany, or interview a botanist, in order to find out explicit rules for identifying the correct species. Instead, the classifier (the computer program for predicting the iris variety) can be constructed directly from the contents of the dataset containing 150 examples of inputs and outputs. Of course, the quality of such a classifier is very much dependent on the quality of the available data, and needs to be tested before deployment. The (often iterative) process of building a machine-learning model is called **training** the model, and the dataset used for this purpose is called the **training set**.\n",
    "\n",
    "There are several different categories of problems within machine learning. The above example, where the value of a categorical target variable (variety) has to be predicted in terms of a set of input variables, is a **classification** problem. If the target variable varies on a continuous scale instead of being categorical, the problem is that of **regression**; one might *e.g.* wish to estimate the prize of an apartment in terms of the input values defining its size, number or rooms, age, neighborhood etc. Whenever the training set contains the true (correct) values of the target variable for the training samples, the problem is that of **supervised learning**. This, however, is not always the case. As an example, consider the iris dataset without the variety column, containing only the values of the four numerical dimensions for each sample. One might *e.g.* ask whether this set of 150 samples could be divided in three subsets so that each of them contains samples \"similar\" to each other, but distinct from those in other subsets. Such **clustering** problems are often encountered in the context of market segmentation, and \n",
    " belong to the category of **unsupervised learning**.     \n",
    "\n",
    "During this course, we learn methods and tools for dealing with these kinds of problems, and much more. \n",
    "\n",
    " "
   ],
   "id": "98a9ced23ec6d26"
  },
  {
   "metadata": {
    "ExecuteTime": {
     "end_time": "2024-08-16T09:56:46.508488Z",
     "start_time": "2024-08-16T09:56:46.492863Z"
    }
   },
   "cell_type": "code",
   "source": [],
   "id": "ef26c4659beec819",
   "outputs": [],
   "execution_count": 19
  }
 ],
 "metadata": {
  "kernelspec": {
   "display_name": "Python 3 (ipykernel)",
   "language": "python",
   "name": "python3"
  },
  "language_info": {
   "codemirror_mode": {
    "name": "ipython",
    "version": 3
   },
   "file_extension": ".py",
   "mimetype": "text/x-python",
   "name": "python",
   "nbconvert_exporter": "python",
   "pygments_lexer": "ipython3",
   "version": "3.9.16"
  }
 },
 "nbformat": 4,
 "nbformat_minor": 5
}
